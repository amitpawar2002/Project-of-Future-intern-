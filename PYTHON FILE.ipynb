{
 "cells": [
  {
   "cell_type": "markdown",
   "id": "21ad1ec5",
   "metadata": {},
   "source": [
    "# TASK-1 \"Perform Data Cleaning\n",
    "\n",
    "Clean a dataset by removing missing values\n",
    "\n",
    "and outliers."
   ]
  },
  {
   "cell_type": "code",
   "execution_count": 1,
   "id": "fa4b383a",
   "metadata": {},
   "outputs": [],
   "source": [
    "# FILE NO.1 \"TEST TABLE\""
   ]
  },
  {
   "cell_type": "code",
   "execution_count": 7,
   "id": "327a91dd",
   "metadata": {},
   "outputs": [],
   "source": [
    "import pandas as pd\n",
    "import seaborn as sns\n",
    "import numpy as np\n",
    "import matplotlib.pyplot as plt"
   ]
  },
  {
   "cell_type": "code",
   "execution_count": 8,
   "id": "5082b2e2",
   "metadata": {},
   "outputs": [],
   "source": [
    "dataset = pd.read_csv(r\"D:\\TASK\\test.csv\") # IMPORT FILE"
   ]
  },
  {
   "cell_type": "code",
   "execution_count": 9,
   "id": "e94e1159",
   "metadata": {},
   "outputs": [
    {
     "data": {
      "text/html": [
       "<div>\n",
       "<style scoped>\n",
       "    .dataframe tbody tr th:only-of-type {\n",
       "        vertical-align: middle;\n",
       "    }\n",
       "\n",
       "    .dataframe tbody tr th {\n",
       "        vertical-align: top;\n",
       "    }\n",
       "\n",
       "    .dataframe thead th {\n",
       "        text-align: right;\n",
       "    }\n",
       "</style>\n",
       "<table border=\"1\" class=\"dataframe\">\n",
       "  <thead>\n",
       "    <tr style=\"text-align: right;\">\n",
       "      <th></th>\n",
       "      <th>PassengerId</th>\n",
       "      <th>Pclass</th>\n",
       "      <th>Name</th>\n",
       "      <th>Sex</th>\n",
       "      <th>Age</th>\n",
       "      <th>SibSp</th>\n",
       "      <th>Parch</th>\n",
       "      <th>Ticket</th>\n",
       "      <th>Fare</th>\n",
       "      <th>Cabin</th>\n",
       "      <th>Embarked</th>\n",
       "    </tr>\n",
       "  </thead>\n",
       "  <tbody>\n",
       "    <tr>\n",
       "      <th>0</th>\n",
       "      <td>892</td>\n",
       "      <td>3</td>\n",
       "      <td>Kelly, Mr. James</td>\n",
       "      <td>male</td>\n",
       "      <td>34.5</td>\n",
       "      <td>0</td>\n",
       "      <td>0</td>\n",
       "      <td>330911</td>\n",
       "      <td>7.8292</td>\n",
       "      <td>NaN</td>\n",
       "      <td>Q</td>\n",
       "    </tr>\n",
       "    <tr>\n",
       "      <th>1</th>\n",
       "      <td>893</td>\n",
       "      <td>3</td>\n",
       "      <td>Wilkes, Mrs. James (Ellen Needs)</td>\n",
       "      <td>female</td>\n",
       "      <td>47.0</td>\n",
       "      <td>1</td>\n",
       "      <td>0</td>\n",
       "      <td>363272</td>\n",
       "      <td>7.0000</td>\n",
       "      <td>NaN</td>\n",
       "      <td>S</td>\n",
       "    </tr>\n",
       "    <tr>\n",
       "      <th>2</th>\n",
       "      <td>894</td>\n",
       "      <td>2</td>\n",
       "      <td>Myles, Mr. Thomas Francis</td>\n",
       "      <td>male</td>\n",
       "      <td>62.0</td>\n",
       "      <td>0</td>\n",
       "      <td>0</td>\n",
       "      <td>240276</td>\n",
       "      <td>9.6875</td>\n",
       "      <td>NaN</td>\n",
       "      <td>Q</td>\n",
       "    </tr>\n",
       "    <tr>\n",
       "      <th>3</th>\n",
       "      <td>895</td>\n",
       "      <td>3</td>\n",
       "      <td>Wirz, Mr. Albert</td>\n",
       "      <td>male</td>\n",
       "      <td>27.0</td>\n",
       "      <td>0</td>\n",
       "      <td>0</td>\n",
       "      <td>315154</td>\n",
       "      <td>8.6625</td>\n",
       "      <td>NaN</td>\n",
       "      <td>S</td>\n",
       "    </tr>\n",
       "    <tr>\n",
       "      <th>4</th>\n",
       "      <td>896</td>\n",
       "      <td>3</td>\n",
       "      <td>Hirvonen, Mrs. Alexander (Helga E Lindqvist)</td>\n",
       "      <td>female</td>\n",
       "      <td>22.0</td>\n",
       "      <td>1</td>\n",
       "      <td>1</td>\n",
       "      <td>3101298</td>\n",
       "      <td>12.2875</td>\n",
       "      <td>NaN</td>\n",
       "      <td>S</td>\n",
       "    </tr>\n",
       "    <tr>\n",
       "      <th>5</th>\n",
       "      <td>897</td>\n",
       "      <td>3</td>\n",
       "      <td>Svensson, Mr. Johan Cervin</td>\n",
       "      <td>male</td>\n",
       "      <td>14.0</td>\n",
       "      <td>0</td>\n",
       "      <td>0</td>\n",
       "      <td>7538</td>\n",
       "      <td>9.2250</td>\n",
       "      <td>NaN</td>\n",
       "      <td>S</td>\n",
       "    </tr>\n",
       "    <tr>\n",
       "      <th>6</th>\n",
       "      <td>898</td>\n",
       "      <td>3</td>\n",
       "      <td>Connolly, Miss. Kate</td>\n",
       "      <td>female</td>\n",
       "      <td>30.0</td>\n",
       "      <td>0</td>\n",
       "      <td>0</td>\n",
       "      <td>330972</td>\n",
       "      <td>7.6292</td>\n",
       "      <td>NaN</td>\n",
       "      <td>Q</td>\n",
       "    </tr>\n",
       "    <tr>\n",
       "      <th>7</th>\n",
       "      <td>899</td>\n",
       "      <td>2</td>\n",
       "      <td>Caldwell, Mr. Albert Francis</td>\n",
       "      <td>male</td>\n",
       "      <td>26.0</td>\n",
       "      <td>1</td>\n",
       "      <td>1</td>\n",
       "      <td>248738</td>\n",
       "      <td>29.0000</td>\n",
       "      <td>NaN</td>\n",
       "      <td>S</td>\n",
       "    </tr>\n",
       "    <tr>\n",
       "      <th>8</th>\n",
       "      <td>900</td>\n",
       "      <td>3</td>\n",
       "      <td>Abrahim, Mrs. Joseph (Sophie Halaut Easu)</td>\n",
       "      <td>female</td>\n",
       "      <td>18.0</td>\n",
       "      <td>0</td>\n",
       "      <td>0</td>\n",
       "      <td>2657</td>\n",
       "      <td>7.2292</td>\n",
       "      <td>NaN</td>\n",
       "      <td>C</td>\n",
       "    </tr>\n",
       "    <tr>\n",
       "      <th>9</th>\n",
       "      <td>901</td>\n",
       "      <td>3</td>\n",
       "      <td>Davies, Mr. John Samuel</td>\n",
       "      <td>male</td>\n",
       "      <td>21.0</td>\n",
       "      <td>2</td>\n",
       "      <td>0</td>\n",
       "      <td>A/4 48871</td>\n",
       "      <td>24.1500</td>\n",
       "      <td>NaN</td>\n",
       "      <td>S</td>\n",
       "    </tr>\n",
       "  </tbody>\n",
       "</table>\n",
       "</div>"
      ],
      "text/plain": [
       "   PassengerId  Pclass                                          Name     Sex  \\\n",
       "0          892       3                              Kelly, Mr. James    male   \n",
       "1          893       3              Wilkes, Mrs. James (Ellen Needs)  female   \n",
       "2          894       2                     Myles, Mr. Thomas Francis    male   \n",
       "3          895       3                              Wirz, Mr. Albert    male   \n",
       "4          896       3  Hirvonen, Mrs. Alexander (Helga E Lindqvist)  female   \n",
       "5          897       3                    Svensson, Mr. Johan Cervin    male   \n",
       "6          898       3                          Connolly, Miss. Kate  female   \n",
       "7          899       2                  Caldwell, Mr. Albert Francis    male   \n",
       "8          900       3     Abrahim, Mrs. Joseph (Sophie Halaut Easu)  female   \n",
       "9          901       3                       Davies, Mr. John Samuel    male   \n",
       "\n",
       "    Age  SibSp  Parch     Ticket     Fare Cabin Embarked  \n",
       "0  34.5      0      0     330911   7.8292   NaN        Q  \n",
       "1  47.0      1      0     363272   7.0000   NaN        S  \n",
       "2  62.0      0      0     240276   9.6875   NaN        Q  \n",
       "3  27.0      0      0     315154   8.6625   NaN        S  \n",
       "4  22.0      1      1    3101298  12.2875   NaN        S  \n",
       "5  14.0      0      0       7538   9.2250   NaN        S  \n",
       "6  30.0      0      0     330972   7.6292   NaN        Q  \n",
       "7  26.0      1      1     248738  29.0000   NaN        S  \n",
       "8  18.0      0      0       2657   7.2292   NaN        C  \n",
       "9  21.0      2      0  A/4 48871  24.1500   NaN        S  "
      ]
     },
     "execution_count": 9,
     "metadata": {},
     "output_type": "execute_result"
    }
   ],
   "source": [
    "dataset.head(10)"
   ]
  },
  {
   "cell_type": "code",
   "execution_count": 10,
   "id": "41438a84",
   "metadata": {},
   "outputs": [
    {
     "data": {
      "text/plain": [
       "(418, 11)"
      ]
     },
     "execution_count": 10,
     "metadata": {},
     "output_type": "execute_result"
    }
   ],
   "source": [
    "dataset.shape"
   ]
  },
  {
   "cell_type": "code",
   "execution_count": 11,
   "id": "9af12476",
   "metadata": {},
   "outputs": [
    {
     "name": "stdout",
     "output_type": "stream",
     "text": [
      "<class 'pandas.core.frame.DataFrame'>\n",
      "RangeIndex: 418 entries, 0 to 417\n",
      "Data columns (total 11 columns):\n",
      " #   Column       Non-Null Count  Dtype  \n",
      "---  ------       --------------  -----  \n",
      " 0   PassengerId  418 non-null    int64  \n",
      " 1   Pclass       418 non-null    int64  \n",
      " 2   Name         418 non-null    object \n",
      " 3   Sex          418 non-null    object \n",
      " 4   Age          332 non-null    float64\n",
      " 5   SibSp        418 non-null    int64  \n",
      " 6   Parch        418 non-null    int64  \n",
      " 7   Ticket       418 non-null    object \n",
      " 8   Fare         417 non-null    float64\n",
      " 9   Cabin        91 non-null     object \n",
      " 10  Embarked     418 non-null    object \n",
      "dtypes: float64(2), int64(4), object(5)\n",
      "memory usage: 36.1+ KB\n"
     ]
    }
   ],
   "source": [
    "dataset.info()"
   ]
  },
  {
   "cell_type": "code",
   "execution_count": 12,
   "id": "738e96f3",
   "metadata": {},
   "outputs": [
    {
     "data": {
      "text/plain": [
       "Index(['PassengerId', 'Pclass', 'Name', 'Sex', 'Age', 'SibSp', 'Parch',\n",
       "       'Ticket', 'Fare', 'Cabin', 'Embarked'],\n",
       "      dtype='object')"
      ]
     },
     "execution_count": 12,
     "metadata": {},
     "output_type": "execute_result"
    }
   ],
   "source": [
    "dataset.columns"
   ]
  },
  {
   "cell_type": "code",
   "execution_count": 13,
   "id": "6809fe14",
   "metadata": {},
   "outputs": [
    {
     "data": {
      "text/plain": [
       "PassengerId      0\n",
       "Pclass           0\n",
       "Name             0\n",
       "Sex              0\n",
       "Age             86\n",
       "SibSp            0\n",
       "Parch            0\n",
       "Ticket           0\n",
       "Fare             1\n",
       "Cabin          327\n",
       "Embarked         0\n",
       "dtype: int64"
      ]
     },
     "execution_count": 13,
     "metadata": {},
     "output_type": "execute_result"
    }
   ],
   "source": [
    "dataset.isnull().sum() # FIND NULL VALUES"
   ]
  },
  {
   "cell_type": "code",
   "execution_count": 14,
   "id": "f84eb88a",
   "metadata": {},
   "outputs": [
    {
     "data": {
      "text/plain": [
       "<bound method NDFrame._add_numeric_operations.<locals>.mean of 0      34.5\n",
       "1      47.0\n",
       "2      62.0\n",
       "3      27.0\n",
       "4      22.0\n",
       "       ... \n",
       "413     NaN\n",
       "414    39.0\n",
       "415    38.5\n",
       "416     NaN\n",
       "417     NaN\n",
       "Name: Age, Length: 418, dtype: float64>"
      ]
     },
     "execution_count": 14,
     "metadata": {},
     "output_type": "execute_result"
    }
   ],
   "source": [
    "dataset[\"Age\"].mean"
   ]
  },
  {
   "cell_type": "code",
   "execution_count": 15,
   "id": "37efec2a",
   "metadata": {},
   "outputs": [],
   "source": [
    "dataset[\"Age\"] = dataset[\"Age\"].replace(np.nan,34.5) # REPLACE NULL VALUE WITH MEAN = 34.5"
   ]
  },
  {
   "cell_type": "code",
   "execution_count": 16,
   "id": "a56241fd",
   "metadata": {},
   "outputs": [],
   "source": [
    "dataset.dropna(subset = [\"Fare\"], inplace = True)"
   ]
  },
  {
   "cell_type": "code",
   "execution_count": 17,
   "id": "bf1d6546",
   "metadata": {},
   "outputs": [],
   "source": [
    "dataset.drop(columns = [\"Cabin\"], inplace = True)"
   ]
  },
  {
   "cell_type": "code",
   "execution_count": 18,
   "id": "65886c2d",
   "metadata": {},
   "outputs": [
    {
     "data": {
      "text/plain": [
       "PassengerId    0\n",
       "Pclass         0\n",
       "Name           0\n",
       "Sex            0\n",
       "Age            0\n",
       "SibSp          0\n",
       "Parch          0\n",
       "Ticket         0\n",
       "Fare           0\n",
       "Embarked       0\n",
       "dtype: int64"
      ]
     },
     "execution_count": 18,
     "metadata": {},
     "output_type": "execute_result"
    }
   ],
   "source": [
    "dataset.isnull().sum() # ALL NULL VALUE IS REMOVE"
   ]
  },
  {
   "cell_type": "markdown",
   "id": "dc6cabd6",
   "metadata": {},
   "source": [
    "# WE CAN SEE OUTLIERS WITH THE HELP OF BOXPLOT"
   ]
  },
  {
   "cell_type": "code",
   "execution_count": 19,
   "id": "2235ef22",
   "metadata": {},
   "outputs": [
    {
     "data": {
      "image/png": "[encoded data removed]",
      "text/plain": [
       "<Figure size 640x480 with 1 Axes>"
      ]
     },
     "metadata": {},
     "output_type": "display_data"
    },
    {
     "data": {
      "text/plain": [
       "<Figure size 100x100 with 0 Axes>"
      ]
     },
     "metadata": {},
     "output_type": "display_data"
    },
    {
     "data": {
      "image/png": "[encoded data removed]",
      "text/plain": [
       "<Figure size 640x480 with 1 Axes>"
      ]
     },
     "metadata": {},
     "output_type": "display_data"
    },
    {
     "data": {
      "text/plain": [
       "<Figure size 100x100 with 0 Axes>"
      ]
     },
     "metadata": {},
     "output_type": "display_data"
    },
    {
     "data": {
      "image/png": "[encoded data removed]",
      "text/plain": [
       "<Figure size 640x480 with 1 Axes>"
      ]
     },
     "metadata": {},
     "output_type": "display_data"
    },
    {
     "data": {
      "text/plain": [
       "<Figure size 100x100 with 0 Axes>"
      ]
     },
     "metadata": {},
     "output_type": "display_data"
    },
    {
     "data": {
      "image/png": "[encoded data removed]",
      "text/plain": [
       "<Figure size 640x480 with 1 Axes>"
      ]
     },
     "metadata": {},
     "output_type": "display_data"
    },
    {
     "data": {
      "text/plain": [
       "<Figure size 100x100 with 0 Axes>"
      ]
     },
     "metadata": {},
     "output_type": "display_data"
    },
    {
     "data": {
      "image/png": "[encoded data removed]",
      "text/plain": [
       "<Figure size 640x480 with 1 Axes>"
      ]
     },
     "metadata": {},
     "output_type": "display_data"
    },
    {
     "data": {
      "text/plain": [
       "<Figure size 100x100 with 0 Axes>"
      ]
     },
     "metadata": {},
     "output_type": "display_data"
    },
    {
     "data": {
      "image/png": "[encoded data removed]",
      "text/plain": [
       "<Figure size 640x480 with 1 Axes>"
      ]
     },
     "metadata": {},
     "output_type": "display_data"
    },
    {
     "data": {
      "text/plain": [
       "<Figure size 100x100 with 0 Axes>"
      ]
     },
     "metadata": {},
     "output_type": "display_data"
    },
    {
     "data": {
      "text/plain": [
       "(<Axes: xlabel='Fare'>, <Figure size 100x100 with 0 Axes>, None)"
      ]
     },
     "execution_count": 19,
     "metadata": {},
     "output_type": "execute_result"
    }
   ],
   "source": [
    "sns.boxplot( x = \"PassengerId\", data = dataset ),plt.figure(figsize = (1,1)),plt.show()\n",
    "\n",
    "sns.boxplot( x = \"Pclass\", data = dataset ),plt.figure(figsize = (1,1)),plt.show()\n",
    "\n",
    "sns.boxplot( x = \"Age\", data = dataset ),plt.figure(figsize = (1,1)),plt.show()\n",
    "\n",
    "sns.boxplot( x = \"SibSp\", data = dataset ),plt.figure(figsize = (1,1)),plt.show()\n",
    "\n",
    "sns.boxplot( x = \"Parch\", data = dataset ),plt.figure(figsize = (1,1)),plt.show()\n",
    "\n",
    "sns.boxplot( x = \"Fare\", data = dataset ),plt.figure(figsize = (1,1)),plt.show()"
   ]
  },
  {
   "cell_type": "markdown",
   "id": "11a19de6",
   "metadata": {},
   "source": [
    "# WE HAVE TO REMOVE OUTLIERS USING \"IQR\" METHOD"
   ]
  },
  {
   "cell_type": "code",
   "execution_count": 36,
   "id": "cd31fea2",
   "metadata": {},
   "outputs": [
    {
     "name": "stdout",
     "output_type": "stream",
     "text": [
      "     PassengerId  Pclass                                               Name  \\\n",
      "2            894       2                          Myles, Mr. Thomas Francis   \n",
      "13           905       2                               Howard, Mr. Benjamin   \n",
      "20           912       1                             Rothschild, Mr. Martin   \n",
      "48           940       1    Bucknell, Mrs. William Robert (Emma Eliza Ward)   \n",
      "69           961       1                Fortune, Mrs. Mark (Mary McDougald)   \n",
      "77           969       1  Cornell, Mrs. Robert Clifford (Malvina Helen L...   \n",
      "81           973       1                                 Straus, Mr. Isidor   \n",
      "89           981       2                        Wells, Master. Ralph Lester   \n",
      "96           988       1  Cavendish, Mrs. Tyrell William (Julia Florence...   \n",
      "114         1006       1             Straus, Mrs. Isidor (Rosalie Ida Blun)   \n",
      "117         1009       3                    Sandstrom, Miss. Beatrice Irene   \n",
      "142         1034       1                         Ryerson, Mr. Arthur Larned   \n",
      "177         1069       1                    Stengel, Mr. Charles Emil Henry   \n",
      "179         1071       1  Compton, Mrs. Alexander Taylor (Mary Eliza Ing...   \n",
      "193         1085       2                                  Lingane, Mr. John   \n",
      "201         1093       3            Danbom, Master. Gilbert Sigvard Emanuel   \n",
      "213         1105       2       Howard, Mrs. Benjamin (Ellen Truelove Arman)   \n",
      "217         1109       1                           Wick, Mr. George Dennick   \n",
      "236         1128       1                           Warren, Mr. Frank Manley   \n",
      "240         1132       1          Lindstrom, Mrs. Carl Johan (Sigrid Posse)   \n",
      "250         1142       2                              West, Miss. Barbara J   \n",
      "263         1155       3                       Klasen, Miss. Gertrud Emilia   \n",
      "281         1173       3                     Peacock, Master. Alfred Edward   \n",
      "284         1176       3                        Rosblom, Miss. Salli Helena   \n",
      "296         1188       2                              Laroche, Miss. Louise   \n",
      "305         1197       1  Crosby, Mrs. Edward Gifford (Catherine Elizabe...   \n",
      "307         1199       3                          Aks, Master. Philip Frank   \n",
      "308         1200       1                         Hays, Mr. Charles Melville   \n",
      "314         1206       1              White, Mrs. John Stuart (Ella Holmes)   \n",
      "316         1208       1                      Spencer, Mr. William Augustus   \n",
      "343         1235       1  Cardeza, Mrs. James Warburton Martinez (Charlo...   \n",
      "354         1246       3            Dean, Miss. Elizabeth Gladys Millvina\"\"   \n",
      "356         1248       1     Brown, Mrs. John Murray (Caroline Lane Lamson)   \n",
      "374         1266       1              Dodge, Mrs. Washington (Ruth Vidaver)   \n",
      "378         1270       1                        Hipkins, Mr. William Edward   \n",
      "387         1279       2                                    Ashby, Mr. John   \n",
      "409         1301       3                          Peacock, Miss. Treasteall   \n",
      "\n",
      "        Sex    Age  SibSp  Parch              Ticket      Fare Embarked  \n",
      "2      male  62.00      0      0              240276    9.6875        Q  \n",
      "13     male  63.00      1      0               24065   26.0000        S  \n",
      "20     male  55.00      1      0            PC 17603   59.4000        C  \n",
      "48   female  60.00      0      0               11813   76.2917        C  \n",
      "69   female  60.00      1      4               19950  263.0000        S  \n",
      "77   female  55.00      2      0               11770   25.7000        S  \n",
      "81     male  67.00      1      0            PC 17483  221.7792        S  \n",
      "89     male   2.00      1      1               29103   23.0000        S  \n",
      "96   female  76.00      1      0               19877   78.8500        S  \n",
      "114  female  63.00      1      0            PC 17483  221.7792        S  \n",
      "117  female   1.00      1      1             PP 9549   16.7000        S  \n",
      "142    male  61.00      1      3            PC 17608  262.3750        C  \n",
      "177    male  54.00      1      0               11778   55.4417        C  \n",
      "179  female  64.00      0      2            PC 17756   83.1583        C  \n",
      "193    male  61.00      0      0              235509   12.3500        Q  \n",
      "201    male   0.33      0      2              347080   14.4000        S  \n",
      "213  female  60.00      1      0               24065   26.0000        S  \n",
      "217    male  57.00      1      1               36928  164.8667        S  \n",
      "236    male  64.00      1      0              110813   75.2500        C  \n",
      "240  female  55.00      0      0              112377   27.7208        C  \n",
      "250  female   0.92      1      2          C.A. 34651   27.7500        S  \n",
      "263  female   1.00      1      1              350405   12.1833        S  \n",
      "281    male   0.75      1      1  SOTON/O.Q. 3101315   13.7750        S  \n",
      "284  female   2.00      1      1              370129   20.2125        S  \n",
      "296  female   1.00      1      2       SC/Paris 2123   41.5792        C  \n",
      "305  female  64.00      1      1              112901   26.5500        S  \n",
      "307    male   0.83      0      1              392091    9.3500        S  \n",
      "308    male  55.00      1      1               12749   93.5000        S  \n",
      "314  female  55.00      0      0            PC 17760  135.6333        C  \n",
      "316    male  57.00      1      0            PC 17569  146.5208        C  \n",
      "343  female  58.00      0      1            PC 17755  512.3292        C  \n",
      "354  female   0.17      1      2           C.A. 2315   20.5750        S  \n",
      "356  female  59.00      2      0               11769   51.4792        S  \n",
      "374  female  54.00      1      1               33638   81.8583        S  \n",
      "378    male  55.00      0      0                 680   50.0000        S  \n",
      "387    male  57.00      0      0              244346   13.0000        S  \n",
      "409  female   3.00      1      1  SOTON/O.Q. 3101315   13.7750        S  \n"
     ]
    }
   ],
   "source": [
    "#REMOVE AGE OUTLIERS \n",
    "Q1 = dataset[\"Age\"].quantile(0.25)\n",
    "Q3 = dataset[\"Age\"].quantile(0.75)\n",
    "\n",
    "IQR = Q3 - Q1\n",
    "\n",
    "lower_bound = Q1 - 1.5 * IQR\n",
    "upper_bound = Q3 + 1.5 * IQR\n",
    "\n",
    "outliers = dataset[(dataset[\"Age\"] <lower_bound) | (dataset[\"Age\"] > upper_bound)]\n",
    "print(outliers)"
   ]
  },
  {
   "cell_type": "code",
   "execution_count": 37,
   "id": "198c66aa",
   "metadata": {},
   "outputs": [
    {
     "name": "stdout",
     "output_type": "stream",
     "text": [
      "     PassengerId  Pclass                                               Name  \\\n",
      "12           904       1      Snyder, Mrs. John Pillsbury (Nelle Stevenson)   \n",
      "24           916       1    Ryerson, Mrs. Arthur Larned (Emily Maria Borie)   \n",
      "48           940       1    Bucknell, Mrs. William Robert (Emma Eliza Ward)   \n",
      "53           945       1                         Fortune, Miss. Ethel Flora   \n",
      "59           951       1                        Chaudanson, Miss. Victorine   \n",
      "64           956       1                        Ryerson, Master. John Borie   \n",
      "69           961       1                Fortune, Mrs. Mark (Mary McDougald)   \n",
      "74           966       1                               Geiger, Miss. Amalie   \n",
      "75           967       1                                 Keeping, Mr. Edwin   \n",
      "81           973       1                                 Straus, Mr. Isidor   \n",
      "96           988       1  Cavendish, Mrs. Tyrell William (Julia Florence...   \n",
      "114         1006       1             Straus, Mrs. Isidor (Rosalie Ida Blun)   \n",
      "118         1010       1                               Beattie, Mr. Thomson   \n",
      "141         1033       1                               Daniels, Miss. Sarah   \n",
      "142         1034       1                         Ryerson, Mr. Arthur Larned   \n",
      "150         1042       1              Earnshaw, Mrs. Boulton (Olive Potter)   \n",
      "156         1048       1                                  Bird, Miss. Ellen   \n",
      "179         1071       1  Compton, Mrs. Alexander Taylor (Mary Eliza Ing...   \n",
      "181         1073       1                   Compton, Mr. Alexander Taylor Jr   \n",
      "184         1076       1  Douglas, Mrs. Frederick Charles (Mary Helene B...   \n",
      "188         1080       3                                    Sage, Miss. Ada   \n",
      "196         1088       1                    Spedden, Master. Robert Douglas   \n",
      "202         1094       1                             Astor, Col. John Jacob   \n",
      "212         1104       2                          Deacon, Mr. Percy William   \n",
      "217         1109       1                           Wick, Mr. George Dennick   \n",
      "218         1110       1       Widener, Mrs. George Dunton (Eleanor Elkins)   \n",
      "234         1126       1                          Cumings, Mr. John Bradley   \n",
      "236         1128       1                           Warren, Mr. Frank Manley   \n",
      "239         1131       1        Douglas, Mrs. Walter Donald (Mahala Dutton)   \n",
      "242         1134       1                       Spedden, Mr. Frederic Oakley   \n",
      "252         1144       1                           Clark, Mr. Walter Miller   \n",
      "270         1162       1                       McCaffry, Mr. Thomas Francis   \n",
      "272         1164       1      Clark, Mrs. Walter Miller (Virginia McDowell)   \n",
      "287         1179       1                         Snyder, Mr. John Pillsbury   \n",
      "293         1185       1                              Dodge, Dr. Washington   \n",
      "306         1198       1               Allison, Mr. Hudson Joshua Creighton   \n",
      "308         1200       1                         Hays, Mr. Charles Melville   \n",
      "314         1206       1              White, Mrs. John Stuart (Ella Holmes)   \n",
      "316         1208       1                      Spencer, Mr. William Augustus   \n",
      "324         1216       1                             Kreuchen, Miss. Emilie   \n",
      "327         1219       1        Rosenshine, Mr. George (Mr George Thorne\")\"   \n",
      "342         1234       3                              Sage, Mr. John George   \n",
      "343         1235       1  Cardeza, Mrs. James Warburton Martinez (Charlo...   \n",
      "352         1244       2                                Dibden, Mr. William   \n",
      "360         1252       3                        Sage, Master. William Henry   \n",
      "365         1257       3                     Sage, Mrs. John (Annie Bullen)   \n",
      "371         1263       1                          Wilson, Miss. Helen Alice   \n",
      "374         1266       1              Dodge, Mrs. Washington (Ruth Vidaver)   \n",
      "375         1267       1                           Bowen, Miss. Grace Scott   \n",
      "390         1282       1                         Payne, Mr. Vivian Ponsonby   \n",
      "397         1289       1  Frolicher-Stehli, Mrs. Maxmillian (Margaretha ...   \n",
      "400         1292       1                            Bonnell, Miss. Caroline   \n",
      "407         1299       1                         Widener, Mr. George Dunton   \n",
      "411         1303       1    Minahan, Mrs. William Edward (Lillian E Thorpe)   \n",
      "414         1306       1                       Oliva y Ocana, Dona. Fermina   \n",
      "\n",
      "        Sex   Age  SibSp  Parch        Ticket      Fare Embarked  \n",
      "12   female  23.0      1      0         21228   82.2667        S  \n",
      "24   female  48.0      1      3      PC 17608  262.3750        C  \n",
      "48   female  60.0      0      0         11813   76.2917        C  \n",
      "53   female  28.0      3      2         19950  263.0000        S  \n",
      "59   female  36.0      0      0      PC 17608  262.3750        C  \n",
      "64     male  13.0      2      2      PC 17608  262.3750        C  \n",
      "69   female  60.0      1      4         19950  263.0000        S  \n",
      "74   female  35.0      0      0        113503  211.5000        C  \n",
      "75     male  32.5      0      0        113503  211.5000        C  \n",
      "81     male  67.0      1      0      PC 17483  221.7792        S  \n",
      "96   female  76.0      1      0         19877   78.8500        S  \n",
      "114  female  63.0      1      0      PC 17483  221.7792        S  \n",
      "118    male  36.0      0      0         13050   75.2417        C  \n",
      "141  female  33.0      0      0        113781  151.5500        S  \n",
      "142    male  61.0      1      3      PC 17608  262.3750        C  \n",
      "150  female  23.0      0      1         11767   83.1583        C  \n",
      "156  female  29.0      0      0      PC 17483  221.7792        S  \n",
      "179  female  64.0      0      2      PC 17756   83.1583        C  \n",
      "181    male  37.0      1      1      PC 17756   83.1583        C  \n",
      "184  female  27.0      1      1      PC 17558  247.5208        C  \n",
      "188  female  34.5      8      2      CA. 2343   69.5500        S  \n",
      "196    male   6.0      0      2         16966  134.5000        C  \n",
      "202    male  47.0      1      0      PC 17757  227.5250        C  \n",
      "212    male  17.0      0      0  S.O.C. 14879   73.5000        S  \n",
      "217    male  57.0      1      1         36928  164.8667        S  \n",
      "218  female  50.0      1      1        113503  211.5000        C  \n",
      "234    male  39.0      1      0      PC 17599   71.2833        C  \n",
      "236    male  64.0      1      0        110813   75.2500        C  \n",
      "239  female  48.0      1      0      PC 17761  106.4250        C  \n",
      "242    male  45.0      1      1         16966  134.5000        C  \n",
      "252    male  27.0      1      0         13508  136.7792        C  \n",
      "270    male  46.0      0      0         13050   75.2417        C  \n",
      "272  female  26.0      1      0         13508  136.7792        C  \n",
      "287    male  24.0      1      0         21228   82.2667        S  \n",
      "293    male  53.0      1      1         33638   81.8583        S  \n",
      "306    male  30.0      1      2        113781  151.5500        S  \n",
      "308    male  55.0      1      1         12749   93.5000        S  \n",
      "314  female  55.0      0      0      PC 17760  135.6333        C  \n",
      "316    male  57.0      1      0      PC 17569  146.5208        C  \n",
      "324  female  39.0      0      0         24160  211.3375        S  \n",
      "327    male  46.0      0      0      PC 17585   79.2000        C  \n",
      "342    male  34.5      1      9      CA. 2343   69.5500        S  \n",
      "343  female  58.0      0      1      PC 17755  512.3292        C  \n",
      "352    male  18.0      0      0  S.O.C. 14879   73.5000        S  \n",
      "360    male  14.5      8      2      CA. 2343   69.5500        S  \n",
      "365  female  34.5      1      9      CA. 2343   69.5500        S  \n",
      "371  female  31.0      0      0         16966  134.5000        C  \n",
      "374  female  54.0      1      1         33638   81.8583        S  \n",
      "375  female  45.0      0      0      PC 17608  262.3750        C  \n",
      "390    male  23.0      0      0         12749   93.5000        S  \n",
      "397  female  48.0      1      1         13567   79.2000        C  \n",
      "400  female  30.0      0      0         36928  164.8667        S  \n",
      "407    male  50.0      1      1        113503  211.5000        C  \n",
      "411  female  37.0      1      0         19928   90.0000        Q  \n",
      "414  female  39.0      0      0      PC 17758  108.9000        C  \n"
     ]
    }
   ],
   "source": [
    "#REMOVE FARE OUTLIERS\n",
    "\n",
    "Q1 = dataset[\"Fare\"].quantile(0.25)\n",
    "Q3 = dataset[\"Fare\"].quantile(0.75)\n",
    "\n",
    "IQR = Q3 - Q1\n",
    "\n",
    "lower_bound = Q1 - 1.5 * IQR\n",
    "upper_bound = Q3 + 1.5 * IQR\n",
    "\n",
    "outliers = dataset[(dataset[\"Fare\"] <lower_bound) | (dataset[\"Fare\"] > upper_bound)]\n",
    "print(outliers)"
   ]
  },
  {
   "cell_type": "code",
   "execution_count": 39,
   "id": "88b71f9b",
   "metadata": {},
   "outputs": [
    {
     "name": "stdout",
     "output_type": "stream",
     "text": [
      "     PassengerId  Pclass                                    Name     Sex  \\\n",
      "53           945       1              Fortune, Miss. Ethel Flora  female   \n",
      "55           947       3                    Rice, Master. Albert    male   \n",
      "140         1032       3             Goodwin, Miss. Jessie Allis  female   \n",
      "145         1037       3               Vander Planke, Mr. Julius    male   \n",
      "154         1046       3            Asplund, Master. Filip Oscar    male   \n",
      "188         1080       3                         Sage, Miss. Ada  female   \n",
      "214         1106       3  Andersson, Miss. Ida Augusta Margareta  female   \n",
      "360         1252       3             Sage, Master. William Henry    male   \n",
      "379         1271       3             Asplund, Master. Carl Edgar    male   \n",
      "389         1281       3             Palsson, Master. Paul Folke    male   \n",
      "394         1286       3                Kink-Heilmann, Mr. Anton    male   \n",
      "\n",
      "      Age  SibSp  Parch    Ticket      Fare Embarked  \n",
      "53   28.0      3      2     19950  263.0000        S  \n",
      "55   10.0      4      1    382652   29.1250        Q  \n",
      "140  10.0      5      2   CA 2144   46.9000        S  \n",
      "145  31.0      3      0    345763   18.0000        S  \n",
      "154  13.0      4      2    347077   31.3875        S  \n",
      "188  34.5      8      2  CA. 2343   69.5500        S  \n",
      "214  38.0      4      2    347091    7.7750        S  \n",
      "360  14.5      8      2  CA. 2343   69.5500        S  \n",
      "379   5.0      4      2    347077   31.3875        S  \n",
      "389   6.0      3      1    349909   21.0750        S  \n",
      "394  29.0      3      1    315153   22.0250        S  \n"
     ]
    }
   ],
   "source": [
    "#REMOVE SIBSP OUTLIERS\n",
    "\n",
    "Q1 = dataset[\"SibSp\"].quantile(0.25)\n",
    "Q3 = dataset[\"SibSp\"].quantile(0.75)\n",
    "\n",
    "IQR = Q3 - Q1\n",
    "\n",
    "lower_bound = Q1 - 1.5 * IQR\n",
    "upper_bound = Q3 + 1.5 * IQR\n",
    "\n",
    "outliers = dataset[(dataset[\"SibSp\"] <lower_bound) | (dataset[\"SibSp\"] > upper_bound)]\n",
    "print(outliers)"
   ]
  },
  {
   "cell_type": "code",
   "execution_count": null,
   "id": "55073300",
   "metadata": {},
   "outputs": [],
   "source": []
  },
  {
   "cell_type": "code",
   "execution_count": null,
   "id": "a3bafd7c",
   "metadata": {},
   "outputs": [],
   "source": []
  },
  {
   "cell_type": "code",
   "execution_count": null,
   "id": "10670a5f",
   "metadata": {},
   "outputs": [],
   "source": [
    "# FILE NO. 2 [ TRAIN TABLE ] "
   ]
  },
  {
   "cell_type": "code",
   "execution_count": 23,
   "id": "f08a65f2",
   "metadata": {},
   "outputs": [],
   "source": [
    "dataset2 = pd.read_csv(r\"D:\\TASK\\train.csv\") # IMPORT FILE"
   ]
  },
  {
   "cell_type": "code",
   "execution_count": 24,
   "id": "6b2cb959",
   "metadata": {},
   "outputs": [
    {
     "data": {
      "text/html": [
       "<div>\n",
       "<style scoped>\n",
       "    .dataframe tbody tr th:only-of-type {\n",
       "        vertical-align: middle;\n",
       "    }\n",
       "\n",
       "    .dataframe tbody tr th {\n",
       "        vertical-align: top;\n",
       "    }\n",
       "\n",
       "    .dataframe thead th {\n",
       "        text-align: right;\n",
       "    }\n",
       "</style>\n",
       "<table border=\"1\" class=\"dataframe\">\n",
       "  <thead>\n",
       "    <tr style=\"text-align: right;\">\n",
       "      <th></th>\n",
       "      <th>PassengerId</th>\n",
       "      <th>Survived</th>\n",
       "      <th>Pclass</th>\n",
       "      <th>Name</th>\n",
       "      <th>Sex</th>\n",
       "      <th>Age</th>\n",
       "      <th>SibSp</th>\n",
       "      <th>Parch</th>\n",
       "      <th>Ticket</th>\n",
       "      <th>Fare</th>\n",
       "      <th>Cabin</th>\n",
       "      <th>Embarked</th>\n",
       "    </tr>\n",
       "  </thead>\n",
       "  <tbody>\n",
       "    <tr>\n",
       "      <th>0</th>\n",
       "      <td>1</td>\n",
       "      <td>0</td>\n",
       "      <td>3</td>\n",
       "      <td>Braund, Mr. Owen Harris</td>\n",
       "      <td>male</td>\n",
       "      <td>22.0</td>\n",
       "      <td>1</td>\n",
       "      <td>0</td>\n",
       "      <td>A/5 21171</td>\n",
       "      <td>7.2500</td>\n",
       "      <td>NaN</td>\n",
       "      <td>S</td>\n",
       "    </tr>\n",
       "    <tr>\n",
       "      <th>1</th>\n",
       "      <td>2</td>\n",
       "      <td>1</td>\n",
       "      <td>1</td>\n",
       "      <td>Cumings, Mrs. John Bradley (Florence Briggs Th...</td>\n",
       "      <td>female</td>\n",
       "      <td>38.0</td>\n",
       "      <td>1</td>\n",
       "      <td>0</td>\n",
       "      <td>PC 17599</td>\n",
       "      <td>71.2833</td>\n",
       "      <td>C85</td>\n",
       "      <td>C</td>\n",
       "    </tr>\n",
       "    <tr>\n",
       "      <th>2</th>\n",
       "      <td>3</td>\n",
       "      <td>1</td>\n",
       "      <td>3</td>\n",
       "      <td>Heikkinen, Miss. Laina</td>\n",
       "      <td>female</td>\n",
       "      <td>26.0</td>\n",
       "      <td>0</td>\n",
       "      <td>0</td>\n",
       "      <td>STON/O2. 3101282</td>\n",
       "      <td>7.9250</td>\n",
       "      <td>NaN</td>\n",
       "      <td>S</td>\n",
       "    </tr>\n",
       "    <tr>\n",
       "      <th>3</th>\n",
       "      <td>4</td>\n",
       "      <td>1</td>\n",
       "      <td>1</td>\n",
       "      <td>Futrelle, Mrs. Jacques Heath (Lily May Peel)</td>\n",
       "      <td>female</td>\n",
       "      <td>35.0</td>\n",
       "      <td>1</td>\n",
       "      <td>0</td>\n",
       "      <td>113803</td>\n",
       "      <td>53.1000</td>\n",
       "      <td>C123</td>\n",
       "      <td>S</td>\n",
       "    </tr>\n",
       "    <tr>\n",
       "      <th>4</th>\n",
       "      <td>5</td>\n",
       "      <td>0</td>\n",
       "      <td>3</td>\n",
       "      <td>Allen, Mr. William Henry</td>\n",
       "      <td>male</td>\n",
       "      <td>35.0</td>\n",
       "      <td>0</td>\n",
       "      <td>0</td>\n",
       "      <td>373450</td>\n",
       "      <td>8.0500</td>\n",
       "      <td>NaN</td>\n",
       "      <td>S</td>\n",
       "    </tr>\n",
       "    <tr>\n",
       "      <th>5</th>\n",
       "      <td>6</td>\n",
       "      <td>0</td>\n",
       "      <td>3</td>\n",
       "      <td>Moran, Mr. James</td>\n",
       "      <td>male</td>\n",
       "      <td>NaN</td>\n",
       "      <td>0</td>\n",
       "      <td>0</td>\n",
       "      <td>330877</td>\n",
       "      <td>8.4583</td>\n",
       "      <td>NaN</td>\n",
       "      <td>Q</td>\n",
       "    </tr>\n",
       "    <tr>\n",
       "      <th>6</th>\n",
       "      <td>7</td>\n",
       "      <td>0</td>\n",
       "      <td>1</td>\n",
       "      <td>McCarthy, Mr. Timothy J</td>\n",
       "      <td>male</td>\n",
       "      <td>54.0</td>\n",
       "      <td>0</td>\n",
       "      <td>0</td>\n",
       "      <td>17463</td>\n",
       "      <td>51.8625</td>\n",
       "      <td>E46</td>\n",
       "      <td>S</td>\n",
       "    </tr>\n",
       "    <tr>\n",
       "      <th>7</th>\n",
       "      <td>8</td>\n",
       "      <td>0</td>\n",
       "      <td>3</td>\n",
       "      <td>Palsson, Master. Gosta Leonard</td>\n",
       "      <td>male</td>\n",
       "      <td>2.0</td>\n",
       "      <td>3</td>\n",
       "      <td>1</td>\n",
       "      <td>349909</td>\n",
       "      <td>21.0750</td>\n",
       "      <td>NaN</td>\n",
       "      <td>S</td>\n",
       "    </tr>\n",
       "    <tr>\n",
       "      <th>8</th>\n",
       "      <td>9</td>\n",
       "      <td>1</td>\n",
       "      <td>3</td>\n",
       "      <td>Johnson, Mrs. Oscar W (Elisabeth Vilhelmina Berg)</td>\n",
       "      <td>female</td>\n",
       "      <td>27.0</td>\n",
       "      <td>0</td>\n",
       "      <td>2</td>\n",
       "      <td>347742</td>\n",
       "      <td>11.1333</td>\n",
       "      <td>NaN</td>\n",
       "      <td>S</td>\n",
       "    </tr>\n",
       "    <tr>\n",
       "      <th>9</th>\n",
       "      <td>10</td>\n",
       "      <td>1</td>\n",
       "      <td>2</td>\n",
       "      <td>Nasser, Mrs. Nicholas (Adele Achem)</td>\n",
       "      <td>female</td>\n",
       "      <td>14.0</td>\n",
       "      <td>1</td>\n",
       "      <td>0</td>\n",
       "      <td>237736</td>\n",
       "      <td>30.0708</td>\n",
       "      <td>NaN</td>\n",
       "      <td>C</td>\n",
       "    </tr>\n",
       "  </tbody>\n",
       "</table>\n",
       "</div>"
      ],
      "text/plain": [
       "   PassengerId  Survived  Pclass  \\\n",
       "0            1         0       3   \n",
       "1            2         1       1   \n",
       "2            3         1       3   \n",
       "3            4         1       1   \n",
       "4            5         0       3   \n",
       "5            6         0       3   \n",
       "6            7         0       1   \n",
       "7            8         0       3   \n",
       "8            9         1       3   \n",
       "9           10         1       2   \n",
       "\n",
       "                                                Name     Sex   Age  SibSp  \\\n",
       "0                            Braund, Mr. Owen Harris    male  22.0      1   \n",
       "1  Cumings, Mrs. John Bradley (Florence Briggs Th...  female  38.0      1   \n",
       "2                             Heikkinen, Miss. Laina  female  26.0      0   \n",
       "3       Futrelle, Mrs. Jacques Heath (Lily May Peel)  female  35.0      1   \n",
       "4                           Allen, Mr. William Henry    male  35.0      0   \n",
       "5                                   Moran, Mr. James    male   NaN      0   \n",
       "6                            McCarthy, Mr. Timothy J    male  54.0      0   \n",
       "7                     Palsson, Master. Gosta Leonard    male   2.0      3   \n",
       "8  Johnson, Mrs. Oscar W (Elisabeth Vilhelmina Berg)  female  27.0      0   \n",
       "9                Nasser, Mrs. Nicholas (Adele Achem)  female  14.0      1   \n",
       "\n",
       "   Parch            Ticket     Fare Cabin Embarked  \n",
       "0      0         A/5 21171   7.2500   NaN        S  \n",
       "1      0          PC 17599  71.2833   C85        C  \n",
       "2      0  STON/O2. 3101282   7.9250   NaN        S  \n",
       "3      0            113803  53.1000  C123        S  \n",
       "4      0            373450   8.0500   NaN        S  \n",
       "5      0            330877   8.4583   NaN        Q  \n",
       "6      0             17463  51.8625   E46        S  \n",
       "7      1            349909  21.0750   NaN        S  \n",
       "8      2            347742  11.1333   NaN        S  \n",
       "9      0            237736  30.0708   NaN        C  "
      ]
     },
     "execution_count": 24,
     "metadata": {},
     "output_type": "execute_result"
    }
   ],
   "source": [
    "dataset2.head(10)"
   ]
  },
  {
   "cell_type": "code",
   "execution_count": 25,
   "id": "3b990c50",
   "metadata": {},
   "outputs": [
    {
     "data": {
      "text/plain": [
       "(891, 12)"
      ]
     },
     "execution_count": 25,
     "metadata": {},
     "output_type": "execute_result"
    }
   ],
   "source": [
    "dataset2.shape"
   ]
  },
  {
   "cell_type": "code",
   "execution_count": 27,
   "id": "49190cae",
   "metadata": {},
   "outputs": [
    {
     "data": {
      "text/plain": [
       "Index(['PassengerId', 'Survived', 'Pclass', 'Name', 'Sex', 'Age', 'SibSp',\n",
       "       'Parch', 'Ticket', 'Fare', 'Cabin', 'Embarked'],\n",
       "      dtype='object')"
      ]
     },
     "execution_count": 27,
     "metadata": {},
     "output_type": "execute_result"
    }
   ],
   "source": [
    "dataset2.columns"
   ]
  },
  {
   "cell_type": "code",
   "execution_count": 28,
   "id": "2d367cee",
   "metadata": {},
   "outputs": [
    {
     "name": "stdout",
     "output_type": "stream",
     "text": [
      "<class 'pandas.core.frame.DataFrame'>\n",
      "RangeIndex: 891 entries, 0 to 890\n",
      "Data columns (total 12 columns):\n",
      " #   Column       Non-Null Count  Dtype  \n",
      "---  ------       --------------  -----  \n",
      " 0   PassengerId  891 non-null    int64  \n",
      " 1   Survived     891 non-null    int64  \n",
      " 2   Pclass       891 non-null    int64  \n",
      " 3   Name         891 non-null    object \n",
      " 4   Sex          891 non-null    object \n",
      " 5   Age          714 non-null    float64\n",
      " 6   SibSp        891 non-null    int64  \n",
      " 7   Parch        891 non-null    int64  \n",
      " 8   Ticket       891 non-null    object \n",
      " 9   Fare         891 non-null    float64\n",
      " 10  Cabin        204 non-null    object \n",
      " 11  Embarked     889 non-null    object \n",
      "dtypes: float64(2), int64(5), object(5)\n",
      "memory usage: 83.7+ KB\n"
     ]
    }
   ],
   "source": [
    "dataset2.info()"
   ]
  },
  {
   "cell_type": "code",
   "execution_count": 29,
   "id": "f02dd733",
   "metadata": {},
   "outputs": [
    {
     "data": {
      "text/plain": [
       "PassengerId      0\n",
       "Survived         0\n",
       "Pclass           0\n",
       "Name             0\n",
       "Sex              0\n",
       "Age            177\n",
       "SibSp            0\n",
       "Parch            0\n",
       "Ticket           0\n",
       "Fare             0\n",
       "Cabin          687\n",
       "Embarked         2\n",
       "dtype: int64"
      ]
     },
     "execution_count": 29,
     "metadata": {},
     "output_type": "execute_result"
    }
   ],
   "source": [
    "dataset2.isnull().sum() # FIND NULL VALUE IN DATASET2"
   ]
  },
  {
   "cell_type": "code",
   "execution_count": 30,
   "id": "a2334905",
   "metadata": {},
   "outputs": [
    {
     "data": {
      "text/plain": [
       "<bound method NDFrame._add_numeric_operations.<locals>.mean of 0      22.0\n",
       "1      38.0\n",
       "2      26.0\n",
       "3      35.0\n",
       "4      35.0\n",
       "       ... \n",
       "886    27.0\n",
       "887    19.0\n",
       "888     NaN\n",
       "889    26.0\n",
       "890    32.0\n",
       "Name: Age, Length: 891, dtype: float64>"
      ]
     },
     "execution_count": 30,
     "metadata": {},
     "output_type": "execute_result"
    }
   ],
   "source": [
    "dataset2[\"Age\"].mean"
   ]
  },
  {
   "cell_type": "code",
   "execution_count": 31,
   "id": "41b637f4",
   "metadata": {},
   "outputs": [],
   "source": [
    "dataset2[\"Age\"] = dataset2[\"Age\"].replace(np.nan,22.0) # REPLACE NULL VALUE WITH MEAN = 22.0"
   ]
  },
  {
   "cell_type": "code",
   "execution_count": 32,
   "id": "80fd5070",
   "metadata": {},
   "outputs": [],
   "source": [
    "dataset2.drop(columns = [\"Cabin\"], inplace = True)"
   ]
  },
  {
   "cell_type": "code",
   "execution_count": 33,
   "id": "869d4874",
   "metadata": {},
   "outputs": [],
   "source": [
    "dataset2.dropna(subset = [\"Embarked\"], inplace = True)"
   ]
  },
  {
   "cell_type": "code",
   "execution_count": 34,
   "id": "bb3369ec",
   "metadata": {},
   "outputs": [
    {
     "data": {
      "text/plain": [
       "PassengerId    0\n",
       "Survived       0\n",
       "Pclass         0\n",
       "Name           0\n",
       "Sex            0\n",
       "Age            0\n",
       "SibSp          0\n",
       "Parch          0\n",
       "Ticket         0\n",
       "Fare           0\n",
       "Embarked       0\n",
       "dtype: int64"
      ]
     },
     "execution_count": 34,
     "metadata": {},
     "output_type": "execute_result"
    }
   ],
   "source": [
    "dataset2.isnull().sum() #REMOVE ALL NULL VALUES"
   ]
  },
  {
   "cell_type": "markdown",
   "id": "b066b232",
   "metadata": {},
   "source": [
    "# WE WILL SEE OUTLIERS WITH THE HELP OF BOXPLOT"
   ]
  },
  {
   "cell_type": "code",
   "execution_count": 35,
   "id": "06f7b18d",
   "metadata": {},
   "outputs": [
    {
     "data": {
      "image/png": "[encoded data removed]",
      "text/plain": [
       "<Figure size 640x480 with 1 Axes>"
      ]
     },
     "metadata": {},
     "output_type": "display_data"
    },
    {
     "data": {
      "image/png": "[encoded data removed]",
      "text/plain": [
       "<Figure size 200x300 with 1 Axes>"
      ]
     },
     "metadata": {},
     "output_type": "display_data"
    },
    {
     "data": {
      "image/png": "[encoded data removed]",
      "text/plain": [
       "<Figure size 300x400 with 1 Axes>"
      ]
     },
     "metadata": {},
     "output_type": "display_data"
    },
    {
     "data": {
      "image/png": "[encoded data removed]",
      "text/plain": [
       "<Figure size 200x300 with 1 Axes>"
      ]
     },
     "metadata": {},
     "output_type": "display_data"
    },
    {
     "data": {
      "text/plain": [
       "<Figure size 200x300 with 0 Axes>"
      ]
     },
     "metadata": {},
     "output_type": "display_data"
    },
    {
     "data": {
      "image/png": "[encoded data removed]",
      "text/plain": [
       "<Figure size 640x480 with 1 Axes>"
      ]
     },
     "metadata": {},
     "output_type": "display_data"
    },
    {
     "data": {
      "text/plain": [
       "<Figure size 200x300 with 0 Axes>"
      ]
     },
     "metadata": {},
     "output_type": "display_data"
    },
    {
     "data": {
      "image/png": "[encoded data removed]",
      "text/plain": [
       "<Figure size 640x480 with 1 Axes>"
      ]
     },
     "metadata": {},
     "output_type": "display_data"
    },
    {
     "data": {
      "text/plain": [
       "<Figure size 200x300 with 0 Axes>"
      ]
     },
     "metadata": {},
     "output_type": "display_data"
    },
    {
     "data": {
      "image/png": "[encoded data removed]",
      "text/plain": [
       "<Figure size 640x480 with 1 Axes>"
      ]
     },
     "metadata": {},
     "output_type": "display_data"
    },
    {
     "data": {
      "text/plain": [
       "<Figure size 200x300 with 0 Axes>"
      ]
     },
     "metadata": {},
     "output_type": "display_data"
    },
    {
     "data": {
      "text/plain": [
       "(<Axes: xlabel='Fare'>, <Figure size 200x300 with 0 Axes>, None)"
      ]
     },
     "execution_count": 35,
     "metadata": {},
     "output_type": "execute_result"
    }
   ],
   "source": [
    "sns.boxplot(x = \"PassengerId\", data = dataset2),plt.figure(figsize = (2,3)),plt.show\n",
    "\n",
    "sns.boxplot(x = \"Survived\", data = dataset2),plt.figure(figsize = (3,4)),plt.show\n",
    "\n",
    "sns.boxplot(x = \"Pclass\", data = dataset2),plt.figure(figsize =(2,3)),plt.show\n",
    "\n",
    "sns.boxplot(x = \"Age\", data = dataset2),plt.figure(figsize = (2,3)),plt.show()\n",
    "\n",
    "sns.boxplot(x = \"SibSp\", data = dataset2),plt.figure(figsize = (2,3)),plt.show()\n",
    "\n",
    "sns.boxplot(x = \"Parch\", data = dataset2),plt.figure(figsize = (2,3)),plt.show()\n",
    "\n",
    "sns.boxplot(x = \"Fare\", data = dataset2),plt.figure(figsize = (2,3)),plt.show()"
   ]
  },
  {
   "cell_type": "markdown",
   "id": "0c14d0d3",
   "metadata": {},
   "source": [
    "# WE HAVE TO REMOVE OUTLIERS USING \"IQR\" METHOD"
   ]
  },
  {
   "cell_type": "code",
   "execution_count": null,
   "id": "9abe0359",
   "metadata": {},
   "outputs": [],
   "source": [
    "# REMOVE AGE OUTLIERS "
   ]
  },
  {
   "cell_type": "code",
   "execution_count": 40,
   "id": "28f82d4d",
   "metadata": {},
   "outputs": [
    {
     "name": "stdout",
     "output_type": "stream",
     "text": [
      "     PassengerId  Survived  Pclass  \\\n",
      "7              8         0       3   \n",
      "11            12         1       1   \n",
      "15            16         1       2   \n",
      "16            17         0       3   \n",
      "33            34         0       2   \n",
      "..           ...       ...     ...   \n",
      "824          825         0       3   \n",
      "827          828         1       2   \n",
      "831          832         1       2   \n",
      "851          852         0       3   \n",
      "879          880         1       1   \n",
      "\n",
      "                                              Name     Sex    Age  SibSp  \\\n",
      "7                   Palsson, Master. Gosta Leonard    male   2.00      3   \n",
      "11                        Bonnell, Miss. Elizabeth  female  58.00      0   \n",
      "15                Hewlett, Mrs. (Mary D Kingcome)   female  55.00      0   \n",
      "16                            Rice, Master. Eugene    male   2.00      4   \n",
      "33                           Wheadon, Mr. Edward H    male  66.00      0   \n",
      "..                                             ...     ...    ...    ...   \n",
      "824                   Panula, Master. Urho Abraham    male   2.00      4   \n",
      "827                          Mallet, Master. Andre    male   1.00      0   \n",
      "831                Richards, Master. George Sibley    male   0.83      1   \n",
      "851                            Svensson, Mr. Johan    male  74.00      0   \n",
      "879  Potter, Mrs. Thomas Jr (Lily Alexenia Wilson)  female  56.00      0   \n",
      "\n",
      "     Parch           Ticket     Fare Embarked  \n",
      "7        1           349909  21.0750        S  \n",
      "11       0           113783  26.5500        S  \n",
      "15       0           248706  16.0000        S  \n",
      "16       1           382652  29.1250        Q  \n",
      "33       0       C.A. 24579  10.5000        S  \n",
      "..     ...              ...      ...      ...  \n",
      "824      1          3101295  39.6875        S  \n",
      "827      2  S.C./PARIS 2079  37.0042        C  \n",
      "831      1            29106  18.7500        S  \n",
      "851      0           347060   7.7750        S  \n",
      "879      1            11767  83.1583        C  \n",
      "\n",
      "[65 rows x 11 columns]\n"
     ]
    }
   ],
   "source": [
    "Q1 = dataset2[\"Age\"].quantile(0.25)\n",
    "Q3 = dataset2[\"Age\"].quantile(0.75)\n",
    "\n",
    "IQR = Q3 - Q1\n",
    "\n",
    "lower_bound = Q1 - 1.5 * IQR\n",
    "upper_bound = Q3 + 1.5 * IQR\n",
    "\n",
    "outliers = dataset2[(dataset2[\"Age\"]< lower_bound) | (dataset2[\"Age\"] > upper_bound)]\n",
    "print(outliers)"
   ]
  },
  {
   "cell_type": "code",
   "execution_count": null,
   "id": "ebb4b9c8",
   "metadata": {},
   "outputs": [],
   "source": [
    "# REMOVE SIBSP OUTLIERS"
   ]
  },
  {
   "cell_type": "code",
   "execution_count": 41,
   "id": "948e740a",
   "metadata": {},
   "outputs": [
    {
     "name": "stdout",
     "output_type": "stream",
     "text": [
      "     PassengerId  Survived  Pclass  \\\n",
      "7              8         0       3   \n",
      "16            17         0       3   \n",
      "24            25         0       3   \n",
      "27            28         0       1   \n",
      "50            51         0       3   \n",
      "59            60         0       3   \n",
      "63            64         0       3   \n",
      "68            69         1       3   \n",
      "71            72         0       3   \n",
      "85            86         1       3   \n",
      "88            89         1       1   \n",
      "119          120         0       3   \n",
      "159          160         0       3   \n",
      "164          165         0       3   \n",
      "171          172         0       3   \n",
      "176          177         0       3   \n",
      "180          181         0       3   \n",
      "182          183         0       3   \n",
      "201          202         0       3   \n",
      "229          230         0       3   \n",
      "233          234         1       3   \n",
      "261          262         1       3   \n",
      "266          267         0       3   \n",
      "278          279         0       3   \n",
      "324          325         0       3   \n",
      "341          342         1       1   \n",
      "374          375         0       3   \n",
      "386          387         0       3   \n",
      "409          410         0       3   \n",
      "480          481         0       3   \n",
      "485          486         0       3   \n",
      "541          542         0       3   \n",
      "542          543         0       3   \n",
      "634          635         0       3   \n",
      "642          643         0       3   \n",
      "683          684         0       3   \n",
      "686          687         0       3   \n",
      "726          727         1       2   \n",
      "787          788         0       3   \n",
      "792          793         0       3   \n",
      "813          814         0       3   \n",
      "819          820         0       3   \n",
      "824          825         0       3   \n",
      "846          847         0       3   \n",
      "850          851         0       3   \n",
      "863          864         0       3   \n",
      "\n",
      "                                                  Name     Sex   Age  SibSp  \\\n",
      "7                       Palsson, Master. Gosta Leonard    male   2.0      3   \n",
      "16                                Rice, Master. Eugene    male   2.0      4   \n",
      "24                       Palsson, Miss. Torborg Danira  female   8.0      3   \n",
      "27                      Fortune, Mr. Charles Alexander    male  19.0      3   \n",
      "50                          Panula, Master. Juha Niilo    male   7.0      4   \n",
      "59                  Goodwin, Master. William Frederick    male  11.0      5   \n",
      "63                               Skoog, Master. Harald    male   4.0      3   \n",
      "68                     Andersson, Miss. Erna Alexandra  female  17.0      4   \n",
      "71                          Goodwin, Miss. Lillian Amy  female  16.0      5   \n",
      "85   Backstrom, Mrs. Karl Alfred (Maria Mathilda Gu...  female  33.0      3   \n",
      "88                          Fortune, Miss. Mabel Helen  female  23.0      3   \n",
      "119                  Andersson, Miss. Ellis Anna Maria  female   2.0      4   \n",
      "159                         Sage, Master. Thomas Henry    male  22.0      8   \n",
      "164                       Panula, Master. Eino Viljami    male   1.0      4   \n",
      "171                               Rice, Master. Arthur    male   4.0      4   \n",
      "176                      Lefebre, Master. Henry Forbes    male  22.0      3   \n",
      "180                       Sage, Miss. Constance Gladys  female  22.0      8   \n",
      "182              Asplund, Master. Clarence Gustaf Hugo    male   9.0      4   \n",
      "201                                Sage, Mr. Frederick    male  22.0      8   \n",
      "229                            Lefebre, Miss. Mathilde  female  22.0      3   \n",
      "233                     Asplund, Miss. Lillian Gertrud  female   5.0      4   \n",
      "261                  Asplund, Master. Edvin Rojj Felix    male   3.0      4   \n",
      "266                          Panula, Mr. Ernesti Arvid    male  16.0      4   \n",
      "278                                 Rice, Master. Eric    male   7.0      4   \n",
      "324                           Sage, Mr. George John Jr    male  22.0      8   \n",
      "341                     Fortune, Miss. Alice Elizabeth  female  24.0      3   \n",
      "374                         Palsson, Miss. Stina Viola  female   3.0      3   \n",
      "386                    Goodwin, Master. Sidney Leonard    male   1.0      5   \n",
      "409                                 Lefebre, Miss. Ida  female  22.0      3   \n",
      "480                     Goodwin, Master. Harold Victor    male   9.0      5   \n",
      "485                             Lefebre, Miss. Jeannie  female  22.0      3   \n",
      "541               Andersson, Miss. Ingeborg Constanzia  female   9.0      4   \n",
      "542                  Andersson, Miss. Sigrid Elisabeth  female  11.0      4   \n",
      "634                                 Skoog, Miss. Mabel  female   9.0      3   \n",
      "642                      Skoog, Miss. Margit Elizabeth  female   2.0      3   \n",
      "683                        Goodwin, Mr. Charles Edward    male  14.0      5   \n",
      "686                           Panula, Mr. Jaako Arnold    male  14.0      4   \n",
      "726        Renouf, Mrs. Peter Henry (Lillian Jefferys)  female  30.0      3   \n",
      "787                          Rice, Master. George Hugh    male   8.0      4   \n",
      "792                            Sage, Miss. Stella Anna  female  22.0      8   \n",
      "813                 Andersson, Miss. Ebba Iris Alfrida  female   6.0      4   \n",
      "819                       Skoog, Master. Karl Thorsten    male  10.0      3   \n",
      "824                       Panula, Master. Urho Abraham    male   2.0      4   \n",
      "846                           Sage, Mr. Douglas Bullen    male  22.0      8   \n",
      "850            Andersson, Master. Sigvard Harald Elias    male   4.0      4   \n",
      "863                  Sage, Miss. Dorothy Edith \"Dolly\"  female  22.0      8   \n",
      "\n",
      "     Parch    Ticket      Fare Embarked  \n",
      "7        1    349909   21.0750        S  \n",
      "16       1    382652   29.1250        Q  \n",
      "24       1    349909   21.0750        S  \n",
      "27       2     19950  263.0000        S  \n",
      "50       1   3101295   39.6875        S  \n",
      "59       2   CA 2144   46.9000        S  \n",
      "63       2    347088   27.9000        S  \n",
      "68       2   3101281    7.9250        S  \n",
      "71       2   CA 2144   46.9000        S  \n",
      "85       0   3101278   15.8500        S  \n",
      "88       2     19950  263.0000        S  \n",
      "119      2    347082   31.2750        S  \n",
      "159      2  CA. 2343   69.5500        S  \n",
      "164      1   3101295   39.6875        S  \n",
      "171      1    382652   29.1250        Q  \n",
      "176      1      4133   25.4667        S  \n",
      "180      2  CA. 2343   69.5500        S  \n",
      "182      2    347077   31.3875        S  \n",
      "201      2  CA. 2343   69.5500        S  \n",
      "229      1      4133   25.4667        S  \n",
      "233      2    347077   31.3875        S  \n",
      "261      2    347077   31.3875        S  \n",
      "266      1   3101295   39.6875        S  \n",
      "278      1    382652   29.1250        Q  \n",
      "324      2  CA. 2343   69.5500        S  \n",
      "341      2     19950  263.0000        S  \n",
      "374      1    349909   21.0750        S  \n",
      "386      2   CA 2144   46.9000        S  \n",
      "409      1      4133   25.4667        S  \n",
      "480      2   CA 2144   46.9000        S  \n",
      "485      1      4133   25.4667        S  \n",
      "541      2    347082   31.2750        S  \n",
      "542      2    347082   31.2750        S  \n",
      "634      2    347088   27.9000        S  \n",
      "642      2    347088   27.9000        S  \n",
      "683      2   CA 2144   46.9000        S  \n",
      "686      1   3101295   39.6875        S  \n",
      "726      0     31027   21.0000        S  \n",
      "787      1    382652   29.1250        Q  \n",
      "792      2  CA. 2343   69.5500        S  \n",
      "813      2    347082   31.2750        S  \n",
      "819      2    347088   27.9000        S  \n",
      "824      1   3101295   39.6875        S  \n",
      "846      2  CA. 2343   69.5500        S  \n",
      "850      2    347082   31.2750        S  \n",
      "863      2  CA. 2343   69.5500        S  \n"
     ]
    }
   ],
   "source": [
    "Q1 = dataset2[\"SibSp\"].quantile(0.25)\n",
    "Q3 = dataset2[\"SibSp\"].quantile(0.75)\n",
    "\n",
    "IQR = Q3 - Q1\n",
    "\n",
    "lower_bound = Q1 - 1.5 * IQR\n",
    "upper_bound = Q3 + 1.5 * IQR\n",
    "\n",
    "outliers = dataset2[(dataset2[\"SibSp\"] < lower_bound) | (dataset2[\"SibSp\"] > upper_bound)]\n",
    "print(outliers)"
   ]
  },
  {
   "cell_type": "code",
   "execution_count": null,
   "id": "46946eda",
   "metadata": {},
   "outputs": [],
   "source": [
    "# REMOVE FARE OUTLIERS"
   ]
  },
  {
   "cell_type": "code",
   "execution_count": 42,
   "id": "580680f4",
   "metadata": {},
   "outputs": [
    {
     "name": "stdout",
     "output_type": "stream",
     "text": [
      "     PassengerId  Survived  Pclass  \\\n",
      "1              2         1       1   \n",
      "27            28         0       1   \n",
      "31            32         1       1   \n",
      "34            35         0       1   \n",
      "52            53         1       1   \n",
      "..           ...       ...     ...   \n",
      "846          847         0       3   \n",
      "849          850         1       1   \n",
      "856          857         1       1   \n",
      "863          864         0       3   \n",
      "879          880         1       1   \n",
      "\n",
      "                                                  Name     Sex   Age  SibSp  \\\n",
      "1    Cumings, Mrs. John Bradley (Florence Briggs Th...  female  38.0      1   \n",
      "27                      Fortune, Mr. Charles Alexander    male  19.0      3   \n",
      "31      Spencer, Mrs. William Augustus (Marie Eugenie)  female  22.0      1   \n",
      "34                             Meyer, Mr. Edgar Joseph    male  28.0      1   \n",
      "52            Harper, Mrs. Henry Sleeper (Myna Haxtun)  female  49.0      1   \n",
      "..                                                 ...     ...   ...    ...   \n",
      "846                           Sage, Mr. Douglas Bullen    male  22.0      8   \n",
      "849       Goldenberg, Mrs. Samuel L (Edwiga Grabowska)  female  22.0      1   \n",
      "856         Wick, Mrs. George Dennick (Mary Hitchcock)  female  45.0      1   \n",
      "863                  Sage, Miss. Dorothy Edith \"Dolly\"  female  22.0      8   \n",
      "879      Potter, Mrs. Thomas Jr (Lily Alexenia Wilson)  female  56.0      0   \n",
      "\n",
      "     Parch    Ticket      Fare Embarked  \n",
      "1        0  PC 17599   71.2833        C  \n",
      "27       2     19950  263.0000        S  \n",
      "31       0  PC 17569  146.5208        C  \n",
      "34       0  PC 17604   82.1708        C  \n",
      "52       0  PC 17572   76.7292        C  \n",
      "..     ...       ...       ...      ...  \n",
      "846      2  CA. 2343   69.5500        S  \n",
      "849      0     17453   89.1042        C  \n",
      "856      1     36928  164.8667        S  \n",
      "863      2  CA. 2343   69.5500        S  \n",
      "879      1     11767   83.1583        C  \n",
      "\n",
      "[114 rows x 11 columns]\n"
     ]
    }
   ],
   "source": [
    "Q1 = dataset2[\"Fare\"].quantile(0.25)\n",
    "Q3 = dataset2[\"Fare\"].quantile(0.75)\n",
    "\n",
    "IQR = Q3 - Q1\n",
    "\n",
    "lower_bound = Q1 - 1.5 *IQR\n",
    "upper_bound = Q3 + 1.5 *IQR\n",
    "\n",
    "outliers = dataset2[(dataset2[\"Fare\"] < lower_bound) | (dataset2[\"Fare\"] > upper_bound)]\n",
    "print(outliers)"
   ]
  },
  {
   "cell_type": "code",
   "execution_count": null,
   "id": "9a8e96d5",
   "metadata": {},
   "outputs": [],
   "source": []
  },
  {
   "cell_type": "markdown",
   "id": "c6097089",
   "metadata": {},
   "source": [
    "# TASK-1 IS DONE"
   ]
  },
  {
   "cell_type": "code",
   "execution_count": null,
   "id": "3b27083e",
   "metadata": {},
   "outputs": [],
   "source": []
  },
  {
   "cell_type": "code",
   "execution_count": null,
   "id": "469da912",
   "metadata": {},
   "outputs": [],
   "source": []
  },
  {
   "cell_type": "markdown",
   "id": "fbd79dc5",
   "metadata": {},
   "source": [
    "# TASK - 2 \"Calculate summary statistics\n",
    "Calculate summary statistics (mean, median,\n",
    "\n",
    "mode, standard deviation) for a dataset"
   ]
  },
  {
   "cell_type": "code",
   "execution_count": null,
   "id": "c94ad24b",
   "metadata": {},
   "outputs": [],
   "source": [
    "# FILE NO.1 \"TEST TABLE\""
   ]
  },
  {
   "cell_type": "code",
   "execution_count": 43,
   "id": "59aa1b8a",
   "metadata": {},
   "outputs": [
    {
     "data": {
      "text/html": [
       "<div>\n",
       "<style scoped>\n",
       "    .dataframe tbody tr th:only-of-type {\n",
       "        vertical-align: middle;\n",
       "    }\n",
       "\n",
       "    .dataframe tbody tr th {\n",
       "        vertical-align: top;\n",
       "    }\n",
       "\n",
       "    .dataframe thead th {\n",
       "        text-align: right;\n",
       "    }\n",
       "</style>\n",
       "<table border=\"1\" class=\"dataframe\">\n",
       "  <thead>\n",
       "    <tr style=\"text-align: right;\">\n",
       "      <th></th>\n",
       "      <th>PassengerId</th>\n",
       "      <th>Pclass</th>\n",
       "      <th>Name</th>\n",
       "      <th>Sex</th>\n",
       "      <th>Age</th>\n",
       "      <th>SibSp</th>\n",
       "      <th>Parch</th>\n",
       "      <th>Ticket</th>\n",
       "      <th>Fare</th>\n",
       "      <th>Embarked</th>\n",
       "    </tr>\n",
       "  </thead>\n",
       "  <tbody>\n",
       "    <tr>\n",
       "      <th>0</th>\n",
       "      <td>892</td>\n",
       "      <td>3</td>\n",
       "      <td>Kelly, Mr. James</td>\n",
       "      <td>male</td>\n",
       "      <td>34.5</td>\n",
       "      <td>0</td>\n",
       "      <td>0</td>\n",
       "      <td>330911</td>\n",
       "      <td>7.8292</td>\n",
       "      <td>Q</td>\n",
       "    </tr>\n",
       "    <tr>\n",
       "      <th>1</th>\n",
       "      <td>893</td>\n",
       "      <td>3</td>\n",
       "      <td>Wilkes, Mrs. James (Ellen Needs)</td>\n",
       "      <td>female</td>\n",
       "      <td>47.0</td>\n",
       "      <td>1</td>\n",
       "      <td>0</td>\n",
       "      <td>363272</td>\n",
       "      <td>7.0000</td>\n",
       "      <td>S</td>\n",
       "    </tr>\n",
       "    <tr>\n",
       "      <th>2</th>\n",
       "      <td>894</td>\n",
       "      <td>2</td>\n",
       "      <td>Myles, Mr. Thomas Francis</td>\n",
       "      <td>male</td>\n",
       "      <td>62.0</td>\n",
       "      <td>0</td>\n",
       "      <td>0</td>\n",
       "      <td>240276</td>\n",
       "      <td>9.6875</td>\n",
       "      <td>Q</td>\n",
       "    </tr>\n",
       "    <tr>\n",
       "      <th>3</th>\n",
       "      <td>895</td>\n",
       "      <td>3</td>\n",
       "      <td>Wirz, Mr. Albert</td>\n",
       "      <td>male</td>\n",
       "      <td>27.0</td>\n",
       "      <td>0</td>\n",
       "      <td>0</td>\n",
       "      <td>315154</td>\n",
       "      <td>8.6625</td>\n",
       "      <td>S</td>\n",
       "    </tr>\n",
       "    <tr>\n",
       "      <th>4</th>\n",
       "      <td>896</td>\n",
       "      <td>3</td>\n",
       "      <td>Hirvonen, Mrs. Alexander (Helga E Lindqvist)</td>\n",
       "      <td>female</td>\n",
       "      <td>22.0</td>\n",
       "      <td>1</td>\n",
       "      <td>1</td>\n",
       "      <td>3101298</td>\n",
       "      <td>12.2875</td>\n",
       "      <td>S</td>\n",
       "    </tr>\n",
       "    <tr>\n",
       "      <th>5</th>\n",
       "      <td>897</td>\n",
       "      <td>3</td>\n",
       "      <td>Svensson, Mr. Johan Cervin</td>\n",
       "      <td>male</td>\n",
       "      <td>14.0</td>\n",
       "      <td>0</td>\n",
       "      <td>0</td>\n",
       "      <td>7538</td>\n",
       "      <td>9.2250</td>\n",
       "      <td>S</td>\n",
       "    </tr>\n",
       "    <tr>\n",
       "      <th>6</th>\n",
       "      <td>898</td>\n",
       "      <td>3</td>\n",
       "      <td>Connolly, Miss. Kate</td>\n",
       "      <td>female</td>\n",
       "      <td>30.0</td>\n",
       "      <td>0</td>\n",
       "      <td>0</td>\n",
       "      <td>330972</td>\n",
       "      <td>7.6292</td>\n",
       "      <td>Q</td>\n",
       "    </tr>\n",
       "    <tr>\n",
       "      <th>7</th>\n",
       "      <td>899</td>\n",
       "      <td>2</td>\n",
       "      <td>Caldwell, Mr. Albert Francis</td>\n",
       "      <td>male</td>\n",
       "      <td>26.0</td>\n",
       "      <td>1</td>\n",
       "      <td>1</td>\n",
       "      <td>248738</td>\n",
       "      <td>29.0000</td>\n",
       "      <td>S</td>\n",
       "    </tr>\n",
       "    <tr>\n",
       "      <th>8</th>\n",
       "      <td>900</td>\n",
       "      <td>3</td>\n",
       "      <td>Abrahim, Mrs. Joseph (Sophie Halaut Easu)</td>\n",
       "      <td>female</td>\n",
       "      <td>18.0</td>\n",
       "      <td>0</td>\n",
       "      <td>0</td>\n",
       "      <td>2657</td>\n",
       "      <td>7.2292</td>\n",
       "      <td>C</td>\n",
       "    </tr>\n",
       "    <tr>\n",
       "      <th>9</th>\n",
       "      <td>901</td>\n",
       "      <td>3</td>\n",
       "      <td>Davies, Mr. John Samuel</td>\n",
       "      <td>male</td>\n",
       "      <td>21.0</td>\n",
       "      <td>2</td>\n",
       "      <td>0</td>\n",
       "      <td>A/4 48871</td>\n",
       "      <td>24.1500</td>\n",
       "      <td>S</td>\n",
       "    </tr>\n",
       "  </tbody>\n",
       "</table>\n",
       "</div>"
      ],
      "text/plain": [
       "   PassengerId  Pclass                                          Name     Sex  \\\n",
       "0          892       3                              Kelly, Mr. James    male   \n",
       "1          893       3              Wilkes, Mrs. James (Ellen Needs)  female   \n",
       "2          894       2                     Myles, Mr. Thomas Francis    male   \n",
       "3          895       3                              Wirz, Mr. Albert    male   \n",
       "4          896       3  Hirvonen, Mrs. Alexander (Helga E Lindqvist)  female   \n",
       "5          897       3                    Svensson, Mr. Johan Cervin    male   \n",
       "6          898       3                          Connolly, Miss. Kate  female   \n",
       "7          899       2                  Caldwell, Mr. Albert Francis    male   \n",
       "8          900       3     Abrahim, Mrs. Joseph (Sophie Halaut Easu)  female   \n",
       "9          901       3                       Davies, Mr. John Samuel    male   \n",
       "\n",
       "    Age  SibSp  Parch     Ticket     Fare Embarked  \n",
       "0  34.5      0      0     330911   7.8292        Q  \n",
       "1  47.0      1      0     363272   7.0000        S  \n",
       "2  62.0      0      0     240276   9.6875        Q  \n",
       "3  27.0      0      0     315154   8.6625        S  \n",
       "4  22.0      1      1    3101298  12.2875        S  \n",
       "5  14.0      0      0       7538   9.2250        S  \n",
       "6  30.0      0      0     330972   7.6292        Q  \n",
       "7  26.0      1      1     248738  29.0000        S  \n",
       "8  18.0      0      0       2657   7.2292        C  \n",
       "9  21.0      2      0  A/4 48871  24.1500        S  "
      ]
     },
     "execution_count": 43,
     "metadata": {},
     "output_type": "execute_result"
    }
   ],
   "source": [
    "dataset.head(10)"
   ]
  },
  {
   "cell_type": "code",
   "execution_count": 44,
   "id": "511a3245",
   "metadata": {},
   "outputs": [
    {
     "data": {
      "text/plain": [
       "(417, 10)"
      ]
     },
     "execution_count": 44,
     "metadata": {},
     "output_type": "execute_result"
    }
   ],
   "source": [
    "dataset.shape"
   ]
  },
  {
   "cell_type": "code",
   "execution_count": 45,
   "id": "01557cc9",
   "metadata": {},
   "outputs": [
    {
     "name": "stdout",
     "output_type": "stream",
     "text": [
      "<class 'pandas.core.frame.DataFrame'>\n",
      "Index: 417 entries, 0 to 417\n",
      "Data columns (total 10 columns):\n",
      " #   Column       Non-Null Count  Dtype  \n",
      "---  ------       --------------  -----  \n",
      " 0   PassengerId  417 non-null    int64  \n",
      " 1   Pclass       417 non-null    int64  \n",
      " 2   Name         417 non-null    object \n",
      " 3   Sex          417 non-null    object \n",
      " 4   Age          417 non-null    float64\n",
      " 5   SibSp        417 non-null    int64  \n",
      " 6   Parch        417 non-null    int64  \n",
      " 7   Ticket       417 non-null    object \n",
      " 8   Fare         417 non-null    float64\n",
      " 9   Embarked     417 non-null    object \n",
      "dtypes: float64(2), int64(4), object(4)\n",
      "memory usage: 35.8+ KB\n"
     ]
    }
   ],
   "source": [
    "dataset.info()"
   ]
  },
  {
   "cell_type": "code",
   "execution_count": 47,
   "id": "0e7c2dfd",
   "metadata": {},
   "outputs": [
    {
     "data": {
      "text/plain": [
       "Index(['PassengerId', 'Pclass', 'Name', 'Sex', 'Age', 'SibSp', 'Parch',\n",
       "       'Ticket', 'Fare', 'Embarked'],\n",
       "      dtype='object')"
      ]
     },
     "execution_count": 47,
     "metadata": {},
     "output_type": "execute_result"
    }
   ],
   "source": [
    "dataset.columns"
   ]
  },
  {
   "cell_type": "code",
   "execution_count": 48,
   "id": "9e2c3a16",
   "metadata": {},
   "outputs": [
    {
     "data": {
      "text/plain": [
       "PassengerId    0\n",
       "Pclass         0\n",
       "Name           0\n",
       "Sex            0\n",
       "Age            0\n",
       "SibSp          0\n",
       "Parch          0\n",
       "Ticket         0\n",
       "Fare           0\n",
       "Embarked       0\n",
       "dtype: int64"
      ]
     },
     "execution_count": 48,
     "metadata": {},
     "output_type": "execute_result"
    }
   ],
   "source": [
    "dataset.isnull().sum() #NO NULL VALUES BECAUSE WE ARE ALREADY CLEAN DATA"
   ]
  },
  {
   "cell_type": "markdown",
   "id": "4fc1788f",
   "metadata": {},
   "source": [
    "# summary of statistics"
   ]
  },
  {
   "cell_type": "code",
   "execution_count": 49,
   "id": "c0d0ab94",
   "metadata": {},
   "outputs": [
    {
     "data": {
      "text/html": [
       "<div>\n",
       "<style scoped>\n",
       "    .dataframe tbody tr th:only-of-type {\n",
       "        vertical-align: middle;\n",
       "    }\n",
       "\n",
       "    .dataframe tbody tr th {\n",
       "        vertical-align: top;\n",
       "    }\n",
       "\n",
       "    .dataframe thead th {\n",
       "        text-align: right;\n",
       "    }\n",
       "</style>\n",
       "<table border=\"1\" class=\"dataframe\">\n",
       "  <thead>\n",
       "    <tr style=\"text-align: right;\">\n",
       "      <th></th>\n",
       "      <th>PassengerId</th>\n",
       "      <th>Pclass</th>\n",
       "      <th>Age</th>\n",
       "      <th>SibSp</th>\n",
       "      <th>Parch</th>\n",
       "      <th>Fare</th>\n",
       "    </tr>\n",
       "  </thead>\n",
       "  <tbody>\n",
       "    <tr>\n",
       "      <th>count</th>\n",
       "      <td>417.000000</td>\n",
       "      <td>417.000000</td>\n",
       "      <td>417.000000</td>\n",
       "      <td>417.000000</td>\n",
       "      <td>417.000000</td>\n",
       "      <td>417.000000</td>\n",
       "    </tr>\n",
       "    <tr>\n",
       "      <th>mean</th>\n",
       "      <td>1100.635492</td>\n",
       "      <td>2.263789</td>\n",
       "      <td>31.071942</td>\n",
       "      <td>0.448441</td>\n",
       "      <td>0.393285</td>\n",
       "      <td>35.627188</td>\n",
       "    </tr>\n",
       "    <tr>\n",
       "      <th>std</th>\n",
       "      <td>120.923774</td>\n",
       "      <td>0.842077</td>\n",
       "      <td>12.683563</td>\n",
       "      <td>0.897568</td>\n",
       "      <td>0.982419</td>\n",
       "      <td>55.907576</td>\n",
       "    </tr>\n",
       "    <tr>\n",
       "      <th>min</th>\n",
       "      <td>892.000000</td>\n",
       "      <td>1.000000</td>\n",
       "      <td>0.170000</td>\n",
       "      <td>0.000000</td>\n",
       "      <td>0.000000</td>\n",
       "      <td>0.000000</td>\n",
       "    </tr>\n",
       "    <tr>\n",
       "      <th>25%</th>\n",
       "      <td>996.000000</td>\n",
       "      <td>1.000000</td>\n",
       "      <td>23.000000</td>\n",
       "      <td>0.000000</td>\n",
       "      <td>0.000000</td>\n",
       "      <td>7.895800</td>\n",
       "    </tr>\n",
       "    <tr>\n",
       "      <th>50%</th>\n",
       "      <td>1101.000000</td>\n",
       "      <td>3.000000</td>\n",
       "      <td>32.000000</td>\n",
       "      <td>0.000000</td>\n",
       "      <td>0.000000</td>\n",
       "      <td>14.454200</td>\n",
       "    </tr>\n",
       "    <tr>\n",
       "      <th>75%</th>\n",
       "      <td>1205.000000</td>\n",
       "      <td>3.000000</td>\n",
       "      <td>35.000000</td>\n",
       "      <td>1.000000</td>\n",
       "      <td>0.000000</td>\n",
       "      <td>31.500000</td>\n",
       "    </tr>\n",
       "    <tr>\n",
       "      <th>max</th>\n",
       "      <td>1309.000000</td>\n",
       "      <td>3.000000</td>\n",
       "      <td>76.000000</td>\n",
       "      <td>8.000000</td>\n",
       "      <td>9.000000</td>\n",
       "      <td>512.329200</td>\n",
       "    </tr>\n",
       "  </tbody>\n",
       "</table>\n",
       "</div>"
      ],
      "text/plain": [
       "       PassengerId      Pclass         Age       SibSp       Parch        Fare\n",
       "count   417.000000  417.000000  417.000000  417.000000  417.000000  417.000000\n",
       "mean   1100.635492    2.263789   31.071942    0.448441    0.393285   35.627188\n",
       "std     120.923774    0.842077   12.683563    0.897568    0.982419   55.907576\n",
       "min     892.000000    1.000000    0.170000    0.000000    0.000000    0.000000\n",
       "25%     996.000000    1.000000   23.000000    0.000000    0.000000    7.895800\n",
       "50%    1101.000000    3.000000   32.000000    0.000000    0.000000   14.454200\n",
       "75%    1205.000000    3.000000   35.000000    1.000000    0.000000   31.500000\n",
       "max    1309.000000    3.000000   76.000000    8.000000    9.000000  512.329200"
      ]
     },
     "execution_count": 49,
     "metadata": {},
     "output_type": "execute_result"
    }
   ],
   "source": [
    "dataset.describe()"
   ]
  },
  {
   "cell_type": "code",
   "execution_count": null,
   "id": "b3e64e0b",
   "metadata": {},
   "outputs": [],
   "source": []
  },
  {
   "cell_type": "code",
   "execution_count": null,
   "id": "ea9758b4",
   "metadata": {},
   "outputs": [],
   "source": []
  },
  {
   "cell_type": "code",
   "execution_count": 50,
   "id": "a26ef200",
   "metadata": {},
   "outputs": [],
   "source": [
    "# FILE NO.2 \"TRAIN TABLE\""
   ]
  },
  {
   "cell_type": "code",
   "execution_count": 51,
   "id": "ec93122b",
   "metadata": {},
   "outputs": [
    {
     "data": {
      "text/html": [
       "<div>\n",
       "<style scoped>\n",
       "    .dataframe tbody tr th:only-of-type {\n",
       "        vertical-align: middle;\n",
       "    }\n",
       "\n",
       "    .dataframe tbody tr th {\n",
       "        vertical-align: top;\n",
       "    }\n",
       "\n",
       "    .dataframe thead th {\n",
       "        text-align: right;\n",
       "    }\n",
       "</style>\n",
       "<table border=\"1\" class=\"dataframe\">\n",
       "  <thead>\n",
       "    <tr style=\"text-align: right;\">\n",
       "      <th></th>\n",
       "      <th>PassengerId</th>\n",
       "      <th>Survived</th>\n",
       "      <th>Pclass</th>\n",
       "      <th>Name</th>\n",
       "      <th>Sex</th>\n",
       "      <th>Age</th>\n",
       "      <th>SibSp</th>\n",
       "      <th>Parch</th>\n",
       "      <th>Ticket</th>\n",
       "      <th>Fare</th>\n",
       "      <th>Embarked</th>\n",
       "    </tr>\n",
       "  </thead>\n",
       "  <tbody>\n",
       "    <tr>\n",
       "      <th>0</th>\n",
       "      <td>1</td>\n",
       "      <td>0</td>\n",
       "      <td>3</td>\n",
       "      <td>Braund, Mr. Owen Harris</td>\n",
       "      <td>male</td>\n",
       "      <td>22.0</td>\n",
       "      <td>1</td>\n",
       "      <td>0</td>\n",
       "      <td>A/5 21171</td>\n",
       "      <td>7.2500</td>\n",
       "      <td>S</td>\n",
       "    </tr>\n",
       "    <tr>\n",
       "      <th>1</th>\n",
       "      <td>2</td>\n",
       "      <td>1</td>\n",
       "      <td>1</td>\n",
       "      <td>Cumings, Mrs. John Bradley (Florence Briggs Th...</td>\n",
       "      <td>female</td>\n",
       "      <td>38.0</td>\n",
       "      <td>1</td>\n",
       "      <td>0</td>\n",
       "      <td>PC 17599</td>\n",
       "      <td>71.2833</td>\n",
       "      <td>C</td>\n",
       "    </tr>\n",
       "    <tr>\n",
       "      <th>2</th>\n",
       "      <td>3</td>\n",
       "      <td>1</td>\n",
       "      <td>3</td>\n",
       "      <td>Heikkinen, Miss. Laina</td>\n",
       "      <td>female</td>\n",
       "      <td>26.0</td>\n",
       "      <td>0</td>\n",
       "      <td>0</td>\n",
       "      <td>STON/O2. 3101282</td>\n",
       "      <td>7.9250</td>\n",
       "      <td>S</td>\n",
       "    </tr>\n",
       "    <tr>\n",
       "      <th>3</th>\n",
       "      <td>4</td>\n",
       "      <td>1</td>\n",
       "      <td>1</td>\n",
       "      <td>Futrelle, Mrs. Jacques Heath (Lily May Peel)</td>\n",
       "      <td>female</td>\n",
       "      <td>35.0</td>\n",
       "      <td>1</td>\n",
       "      <td>0</td>\n",
       "      <td>113803</td>\n",
       "      <td>53.1000</td>\n",
       "      <td>S</td>\n",
       "    </tr>\n",
       "    <tr>\n",
       "      <th>4</th>\n",
       "      <td>5</td>\n",
       "      <td>0</td>\n",
       "      <td>3</td>\n",
       "      <td>Allen, Mr. William Henry</td>\n",
       "      <td>male</td>\n",
       "      <td>35.0</td>\n",
       "      <td>0</td>\n",
       "      <td>0</td>\n",
       "      <td>373450</td>\n",
       "      <td>8.0500</td>\n",
       "      <td>S</td>\n",
       "    </tr>\n",
       "    <tr>\n",
       "      <th>5</th>\n",
       "      <td>6</td>\n",
       "      <td>0</td>\n",
       "      <td>3</td>\n",
       "      <td>Moran, Mr. James</td>\n",
       "      <td>male</td>\n",
       "      <td>22.0</td>\n",
       "      <td>0</td>\n",
       "      <td>0</td>\n",
       "      <td>330877</td>\n",
       "      <td>8.4583</td>\n",
       "      <td>Q</td>\n",
       "    </tr>\n",
       "    <tr>\n",
       "      <th>6</th>\n",
       "      <td>7</td>\n",
       "      <td>0</td>\n",
       "      <td>1</td>\n",
       "      <td>McCarthy, Mr. Timothy J</td>\n",
       "      <td>male</td>\n",
       "      <td>54.0</td>\n",
       "      <td>0</td>\n",
       "      <td>0</td>\n",
       "      <td>17463</td>\n",
       "      <td>51.8625</td>\n",
       "      <td>S</td>\n",
       "    </tr>\n",
       "    <tr>\n",
       "      <th>7</th>\n",
       "      <td>8</td>\n",
       "      <td>0</td>\n",
       "      <td>3</td>\n",
       "      <td>Palsson, Master. Gosta Leonard</td>\n",
       "      <td>male</td>\n",
       "      <td>2.0</td>\n",
       "      <td>3</td>\n",
       "      <td>1</td>\n",
       "      <td>349909</td>\n",
       "      <td>21.0750</td>\n",
       "      <td>S</td>\n",
       "    </tr>\n",
       "    <tr>\n",
       "      <th>8</th>\n",
       "      <td>9</td>\n",
       "      <td>1</td>\n",
       "      <td>3</td>\n",
       "      <td>Johnson, Mrs. Oscar W (Elisabeth Vilhelmina Berg)</td>\n",
       "      <td>female</td>\n",
       "      <td>27.0</td>\n",
       "      <td>0</td>\n",
       "      <td>2</td>\n",
       "      <td>347742</td>\n",
       "      <td>11.1333</td>\n",
       "      <td>S</td>\n",
       "    </tr>\n",
       "    <tr>\n",
       "      <th>9</th>\n",
       "      <td>10</td>\n",
       "      <td>1</td>\n",
       "      <td>2</td>\n",
       "      <td>Nasser, Mrs. Nicholas (Adele Achem)</td>\n",
       "      <td>female</td>\n",
       "      <td>14.0</td>\n",
       "      <td>1</td>\n",
       "      <td>0</td>\n",
       "      <td>237736</td>\n",
       "      <td>30.0708</td>\n",
       "      <td>C</td>\n",
       "    </tr>\n",
       "  </tbody>\n",
       "</table>\n",
       "</div>"
      ],
      "text/plain": [
       "   PassengerId  Survived  Pclass  \\\n",
       "0            1         0       3   \n",
       "1            2         1       1   \n",
       "2            3         1       3   \n",
       "3            4         1       1   \n",
       "4            5         0       3   \n",
       "5            6         0       3   \n",
       "6            7         0       1   \n",
       "7            8         0       3   \n",
       "8            9         1       3   \n",
       "9           10         1       2   \n",
       "\n",
       "                                                Name     Sex   Age  SibSp  \\\n",
       "0                            Braund, Mr. Owen Harris    male  22.0      1   \n",
       "1  Cumings, Mrs. John Bradley (Florence Briggs Th...  female  38.0      1   \n",
       "2                             Heikkinen, Miss. Laina  female  26.0      0   \n",
       "3       Futrelle, Mrs. Jacques Heath (Lily May Peel)  female  35.0      1   \n",
       "4                           Allen, Mr. William Henry    male  35.0      0   \n",
       "5                                   Moran, Mr. James    male  22.0      0   \n",
       "6                            McCarthy, Mr. Timothy J    male  54.0      0   \n",
       "7                     Palsson, Master. Gosta Leonard    male   2.0      3   \n",
       "8  Johnson, Mrs. Oscar W (Elisabeth Vilhelmina Berg)  female  27.0      0   \n",
       "9                Nasser, Mrs. Nicholas (Adele Achem)  female  14.0      1   \n",
       "\n",
       "   Parch            Ticket     Fare Embarked  \n",
       "0      0         A/5 21171   7.2500        S  \n",
       "1      0          PC 17599  71.2833        C  \n",
       "2      0  STON/O2. 3101282   7.9250        S  \n",
       "3      0            113803  53.1000        S  \n",
       "4      0            373450   8.0500        S  \n",
       "5      0            330877   8.4583        Q  \n",
       "6      0             17463  51.8625        S  \n",
       "7      1            349909  21.0750        S  \n",
       "8      2            347742  11.1333        S  \n",
       "9      0            237736  30.0708        C  "
      ]
     },
     "execution_count": 51,
     "metadata": {},
     "output_type": "execute_result"
    }
   ],
   "source": [
    "dataset2.head(10)"
   ]
  },
  {
   "cell_type": "code",
   "execution_count": 53,
   "id": "ee0086e7",
   "metadata": {},
   "outputs": [
    {
     "data": {
      "text/plain": [
       "(889, 11)"
      ]
     },
     "execution_count": 53,
     "metadata": {},
     "output_type": "execute_result"
    }
   ],
   "source": [
    "dataset2.shape"
   ]
  },
  {
   "cell_type": "code",
   "execution_count": 55,
   "id": "e1b7b250",
   "metadata": {},
   "outputs": [
    {
     "data": {
      "text/plain": [
       "Index(['PassengerId', 'Survived', 'Pclass', 'Name', 'Sex', 'Age', 'SibSp',\n",
       "       'Parch', 'Ticket', 'Fare', 'Embarked'],\n",
       "      dtype='object')"
      ]
     },
     "execution_count": 55,
     "metadata": {},
     "output_type": "execute_result"
    }
   ],
   "source": [
    "dataset2.columns"
   ]
  },
  {
   "cell_type": "code",
   "execution_count": null,
   "id": "1c4f325f",
   "metadata": {},
   "outputs": [],
   "source": [
    "dataset2.info()"
   ]
  },
  {
   "cell_type": "code",
   "execution_count": 56,
   "id": "ea1106fa",
   "metadata": {},
   "outputs": [
    {
     "data": {
      "text/plain": [
       "PassengerId    0\n",
       "Survived       0\n",
       "Pclass         0\n",
       "Name           0\n",
       "Sex            0\n",
       "Age            0\n",
       "SibSp          0\n",
       "Parch          0\n",
       "Ticket         0\n",
       "Fare           0\n",
       "Embarked       0\n",
       "dtype: int64"
      ]
     },
     "execution_count": 56,
     "metadata": {},
     "output_type": "execute_result"
    }
   ],
   "source": [
    "dataset2.isnull().sum() # NO NULL VALUES"
   ]
  },
  {
   "cell_type": "markdown",
   "id": "74514bad",
   "metadata": {},
   "source": [
    "# summary of statistics"
   ]
  },
  {
   "cell_type": "code",
   "execution_count": 57,
   "id": "75549e4a",
   "metadata": {},
   "outputs": [
    {
     "data": {
      "text/html": [
       "<div>\n",
       "<style scoped>\n",
       "    .dataframe tbody tr th:only-of-type {\n",
       "        vertical-align: middle;\n",
       "    }\n",
       "\n",
       "    .dataframe tbody tr th {\n",
       "        vertical-align: top;\n",
       "    }\n",
       "\n",
       "    .dataframe thead th {\n",
       "        text-align: right;\n",
       "    }\n",
       "</style>\n",
       "<table border=\"1\" class=\"dataframe\">\n",
       "  <thead>\n",
       "    <tr style=\"text-align: right;\">\n",
       "      <th></th>\n",
       "      <th>PassengerId</th>\n",
       "      <th>Survived</th>\n",
       "      <th>Pclass</th>\n",
       "      <th>Age</th>\n",
       "      <th>SibSp</th>\n",
       "      <th>Parch</th>\n",
       "      <th>Fare</th>\n",
       "    </tr>\n",
       "  </thead>\n",
       "  <tbody>\n",
       "    <tr>\n",
       "      <th>count</th>\n",
       "      <td>889.000000</td>\n",
       "      <td>889.000000</td>\n",
       "      <td>889.000000</td>\n",
       "      <td>889.000000</td>\n",
       "      <td>889.000000</td>\n",
       "      <td>889.000000</td>\n",
       "      <td>889.000000</td>\n",
       "    </tr>\n",
       "    <tr>\n",
       "      <th>mean</th>\n",
       "      <td>446.000000</td>\n",
       "      <td>0.382452</td>\n",
       "      <td>2.311586</td>\n",
       "      <td>28.120551</td>\n",
       "      <td>0.524184</td>\n",
       "      <td>0.382452</td>\n",
       "      <td>32.096681</td>\n",
       "    </tr>\n",
       "    <tr>\n",
       "      <th>std</th>\n",
       "      <td>256.998173</td>\n",
       "      <td>0.486260</td>\n",
       "      <td>0.834700</td>\n",
       "      <td>13.322956</td>\n",
       "      <td>1.103705</td>\n",
       "      <td>0.806761</td>\n",
       "      <td>49.697504</td>\n",
       "    </tr>\n",
       "    <tr>\n",
       "      <th>min</th>\n",
       "      <td>1.000000</td>\n",
       "      <td>0.000000</td>\n",
       "      <td>1.000000</td>\n",
       "      <td>0.420000</td>\n",
       "      <td>0.000000</td>\n",
       "      <td>0.000000</td>\n",
       "      <td>0.000000</td>\n",
       "    </tr>\n",
       "    <tr>\n",
       "      <th>25%</th>\n",
       "      <td>224.000000</td>\n",
       "      <td>0.000000</td>\n",
       "      <td>2.000000</td>\n",
       "      <td>22.000000</td>\n",
       "      <td>0.000000</td>\n",
       "      <td>0.000000</td>\n",
       "      <td>7.895800</td>\n",
       "    </tr>\n",
       "    <tr>\n",
       "      <th>50%</th>\n",
       "      <td>446.000000</td>\n",
       "      <td>0.000000</td>\n",
       "      <td>3.000000</td>\n",
       "      <td>24.000000</td>\n",
       "      <td>0.000000</td>\n",
       "      <td>0.000000</td>\n",
       "      <td>14.454200</td>\n",
       "    </tr>\n",
       "    <tr>\n",
       "      <th>75%</th>\n",
       "      <td>668.000000</td>\n",
       "      <td>1.000000</td>\n",
       "      <td>3.000000</td>\n",
       "      <td>35.000000</td>\n",
       "      <td>1.000000</td>\n",
       "      <td>0.000000</td>\n",
       "      <td>31.000000</td>\n",
       "    </tr>\n",
       "    <tr>\n",
       "      <th>max</th>\n",
       "      <td>891.000000</td>\n",
       "      <td>1.000000</td>\n",
       "      <td>3.000000</td>\n",
       "      <td>80.000000</td>\n",
       "      <td>8.000000</td>\n",
       "      <td>6.000000</td>\n",
       "      <td>512.329200</td>\n",
       "    </tr>\n",
       "  </tbody>\n",
       "</table>\n",
       "</div>"
      ],
      "text/plain": [
       "       PassengerId    Survived      Pclass         Age       SibSp  \\\n",
       "count   889.000000  889.000000  889.000000  889.000000  889.000000   \n",
       "mean    446.000000    0.382452    2.311586   28.120551    0.524184   \n",
       "std     256.998173    0.486260    0.834700   13.322956    1.103705   \n",
       "min       1.000000    0.000000    1.000000    0.420000    0.000000   \n",
       "25%     224.000000    0.000000    2.000000   22.000000    0.000000   \n",
       "50%     446.000000    0.000000    3.000000   24.000000    0.000000   \n",
       "75%     668.000000    1.000000    3.000000   35.000000    1.000000   \n",
       "max     891.000000    1.000000    3.000000   80.000000    8.000000   \n",
       "\n",
       "            Parch        Fare  \n",
       "count  889.000000  889.000000  \n",
       "mean     0.382452   32.096681  \n",
       "std      0.806761   49.697504  \n",
       "min      0.000000    0.000000  \n",
       "25%      0.000000    7.895800  \n",
       "50%      0.000000   14.454200  \n",
       "75%      0.000000   31.000000  \n",
       "max      6.000000  512.329200  "
      ]
     },
     "execution_count": 57,
     "metadata": {},
     "output_type": "execute_result"
    }
   ],
   "source": [
    "dataset2.describe()"
   ]
  },
  {
   "cell_type": "code",
   "execution_count": null,
   "id": "1aa8a9ca",
   "metadata": {},
   "outputs": [],
   "source": []
  },
  {
   "cell_type": "markdown",
   "id": "c9bb1c99",
   "metadata": {},
   "source": [
    "# TASK - 2 IS DONE"
   ]
  },
  {
   "cell_type": "code",
   "execution_count": null,
   "id": "8bf73851",
   "metadata": {},
   "outputs": [],
   "source": []
  },
  {
   "cell_type": "code",
   "execution_count": null,
   "id": "80edaf51",
   "metadata": {},
   "outputs": [],
   "source": []
  },
  {
   "cell_type": "markdown",
   "id": "36e688c9",
   "metadata": {},
   "source": [
    "# TASK - 3 \"Visualization using Histogram\n",
    "Create a histogram or bar chart to visualize\n",
    "\n",
    "the distribution of data in a dataset\""
   ]
  },
  {
   "cell_type": "code",
   "execution_count": 62,
   "id": "8e3959ce",
   "metadata": {},
   "outputs": [],
   "source": [
    "dataset3 = pd.read_csv(r\"D:\\TASK\\TASK3\\Iris.csv\") # IMPORT DATA"
   ]
  },
  {
   "cell_type": "code",
   "execution_count": 63,
   "id": "e32930d4",
   "metadata": {},
   "outputs": [
    {
     "data": {
      "text/html": [
       "<div>\n",
       "<style scoped>\n",
       "    .dataframe tbody tr th:only-of-type {\n",
       "        vertical-align: middle;\n",
       "    }\n",
       "\n",
       "    .dataframe tbody tr th {\n",
       "        vertical-align: top;\n",
       "    }\n",
       "\n",
       "    .dataframe thead th {\n",
       "        text-align: right;\n",
       "    }\n",
       "</style>\n",
       "<table border=\"1\" class=\"dataframe\">\n",
       "  <thead>\n",
       "    <tr style=\"text-align: right;\">\n",
       "      <th></th>\n",
       "      <th>Id</th>\n",
       "      <th>SepalLengthCm</th>\n",
       "      <th>SepalWidthCm</th>\n",
       "      <th>PetalLengthCm</th>\n",
       "      <th>PetalWidthCm</th>\n",
       "      <th>Species</th>\n",
       "    </tr>\n",
       "  </thead>\n",
       "  <tbody>\n",
       "    <tr>\n",
       "      <th>0</th>\n",
       "      <td>1</td>\n",
       "      <td>5.1</td>\n",
       "      <td>3.5</td>\n",
       "      <td>1.4</td>\n",
       "      <td>0.2</td>\n",
       "      <td>Iris-setosa</td>\n",
       "    </tr>\n",
       "    <tr>\n",
       "      <th>1</th>\n",
       "      <td>2</td>\n",
       "      <td>4.9</td>\n",
       "      <td>3.0</td>\n",
       "      <td>1.4</td>\n",
       "      <td>0.2</td>\n",
       "      <td>Iris-setosa</td>\n",
       "    </tr>\n",
       "    <tr>\n",
       "      <th>2</th>\n",
       "      <td>3</td>\n",
       "      <td>4.7</td>\n",
       "      <td>3.2</td>\n",
       "      <td>1.3</td>\n",
       "      <td>0.2</td>\n",
       "      <td>Iris-setosa</td>\n",
       "    </tr>\n",
       "    <tr>\n",
       "      <th>3</th>\n",
       "      <td>4</td>\n",
       "      <td>4.6</td>\n",
       "      <td>3.1</td>\n",
       "      <td>1.5</td>\n",
       "      <td>0.2</td>\n",
       "      <td>Iris-setosa</td>\n",
       "    </tr>\n",
       "    <tr>\n",
       "      <th>4</th>\n",
       "      <td>5</td>\n",
       "      <td>5.0</td>\n",
       "      <td>3.6</td>\n",
       "      <td>1.4</td>\n",
       "      <td>0.2</td>\n",
       "      <td>Iris-setosa</td>\n",
       "    </tr>\n",
       "  </tbody>\n",
       "</table>\n",
       "</div>"
      ],
      "text/plain": [
       "   Id  SepalLengthCm  SepalWidthCm  PetalLengthCm  PetalWidthCm      Species\n",
       "0   1            5.1           3.5            1.4           0.2  Iris-setosa\n",
       "1   2            4.9           3.0            1.4           0.2  Iris-setosa\n",
       "2   3            4.7           3.2            1.3           0.2  Iris-setosa\n",
       "3   4            4.6           3.1            1.5           0.2  Iris-setosa\n",
       "4   5            5.0           3.6            1.4           0.2  Iris-setosa"
      ]
     },
     "execution_count": 63,
     "metadata": {},
     "output_type": "execute_result"
    }
   ],
   "source": [
    "dataset3.head()"
   ]
  },
  {
   "cell_type": "code",
   "execution_count": 64,
   "id": "e64518fe",
   "metadata": {},
   "outputs": [
    {
     "data": {
      "text/plain": [
       "(150, 6)"
      ]
     },
     "execution_count": 64,
     "metadata": {},
     "output_type": "execute_result"
    }
   ],
   "source": [
    "dataset3.shape"
   ]
  },
  {
   "cell_type": "code",
   "execution_count": 66,
   "id": "4e91f518",
   "metadata": {},
   "outputs": [
    {
     "data": {
      "text/plain": [
       "Index(['Id', 'SepalLengthCm', 'SepalWidthCm', 'PetalLengthCm', 'PetalWidthCm',\n",
       "       'Species'],\n",
       "      dtype='object')"
      ]
     },
     "execution_count": 66,
     "metadata": {},
     "output_type": "execute_result"
    }
   ],
   "source": [
    "dataset3.columns"
   ]
  },
  {
   "cell_type": "code",
   "execution_count": 67,
   "id": "fb2c7569",
   "metadata": {},
   "outputs": [
    {
     "name": "stdout",
     "output_type": "stream",
     "text": [
      "<class 'pandas.core.frame.DataFrame'>\n",
      "RangeIndex: 150 entries, 0 to 149\n",
      "Data columns (total 6 columns):\n",
      " #   Column         Non-Null Count  Dtype  \n",
      "---  ------         --------------  -----  \n",
      " 0   Id             150 non-null    int64  \n",
      " 1   SepalLengthCm  150 non-null    float64\n",
      " 2   SepalWidthCm   150 non-null    float64\n",
      " 3   PetalLengthCm  150 non-null    float64\n",
      " 4   PetalWidthCm   150 non-null    float64\n",
      " 5   Species        150 non-null    object \n",
      "dtypes: float64(4), int64(1), object(1)\n",
      "memory usage: 7.2+ KB\n"
     ]
    }
   ],
   "source": [
    "dataset3.info()"
   ]
  },
  {
   "cell_type": "code",
   "execution_count": 68,
   "id": "e4d19bf8",
   "metadata": {},
   "outputs": [
    {
     "data": {
      "text/plain": [
       "Id               0\n",
       "SepalLengthCm    0\n",
       "SepalWidthCm     0\n",
       "PetalLengthCm    0\n",
       "PetalWidthCm     0\n",
       "Species          0\n",
       "dtype: int64"
      ]
     },
     "execution_count": 68,
     "metadata": {},
     "output_type": "execute_result"
    }
   ],
   "source": [
    "dataset3.isnull().sum() #NO NULL VALUES"
   ]
  },
  {
   "cell_type": "code",
   "execution_count": null,
   "id": "f2890429",
   "metadata": {},
   "outputs": [],
   "source": [
    "# GRAPH = HISTOGRAM OF \"SepalLengthCm\""
   ]
  },
  {
   "cell_type": "code",
   "execution_count": 69,
   "id": "38f257e0",
   "metadata": {},
   "outputs": [
    {
     "data": {
      "image/png": "[encoded data removed]",
      "text/plain": [
       "<Figure size 640x480 with 1 Axes>"
      ]
     },
     "metadata": {},
     "output_type": "display_data"
    }
   ],
   "source": [
    "plt.hist(dataset3[\"SepalLengthCm\"], bins = 10, edgecolor = \"black\")\n",
    "plt.title(\"Histogram of sepal Length\")\n",
    "plt.xlabel(\"Values\")\n",
    "plt.ylabel(\"Frequancy\")\n",
    "plt.show()      "
   ]
  },
  {
   "cell_type": "code",
   "execution_count": null,
   "id": "320250a6",
   "metadata": {},
   "outputs": [],
   "source": [
    "# GRAPH = HISTOGRAM OF \"SepalWidthCm\""
   ]
  },
  {
   "cell_type": "code",
   "execution_count": 70,
   "id": "598051c5",
   "metadata": {},
   "outputs": [
    {
     "data": {
      "image/png": "[encoded data removed]",
      "text/plain": [
       "<Figure size 640x480 with 1 Axes>"
      ]
     },
     "metadata": {},
     "output_type": "display_data"
    }
   ],
   "source": [
    "plt.hist(dataset3[\"SepalWidthCm\"], bins = 10, edgecolor = \"black\")\n",
    "plt.title(\"Histogram of Sepal Width Cm \")\n",
    "plt.xlabel(\"Values\")\n",
    "plt.ylabel(\"Frequancy\")\n",
    "plt.show()"
   ]
  },
  {
   "cell_type": "code",
   "execution_count": null,
   "id": "7e333f85",
   "metadata": {},
   "outputs": [],
   "source": [
    "# GRAPH = HISTOGRAM OF \"PetalLengthCm\""
   ]
  },
  {
   "cell_type": "code",
   "execution_count": 71,
   "id": "6c45a1a0",
   "metadata": {},
   "outputs": [
    {
     "data": {
      "image/png": "[encoded data removed]",
      "text/plain": [
       "<Figure size 640x480 with 1 Axes>"
      ]
     },
     "metadata": {},
     "output_type": "display_data"
    }
   ],
   "source": [
    "plt.hist(dataset3[\"PetalLengthCm\"],bins = 10, edgecolor = \"black\")\n",
    "plt.xlabel(\"Values\")\n",
    "plt.ylabel(\"Frequancy\")\n",
    "plt.title(\"Histogram of ptral Lenght Cm\")\n",
    "plt.show()"
   ]
  },
  {
   "cell_type": "code",
   "execution_count": null,
   "id": "32eed055",
   "metadata": {},
   "outputs": [],
   "source": [
    "# GRAPH = HISTOPGRAM OF \"PetalWidthCm\""
   ]
  },
  {
   "cell_type": "code",
   "execution_count": 72,
   "id": "269364a6",
   "metadata": {},
   "outputs": [
    {
     "data": {
      "image/png": "[encoded data removed]",
      "text/plain": [
       "<Figure size 640x480 with 1 Axes>"
      ]
     },
     "metadata": {},
     "output_type": "display_data"
    }
   ],
   "source": [
    "plt.hist(dataset3[\"PetalWidthCm\"], bins = 10, edgecolor = \"black\")\n",
    "plt.title(\"Histogram of Petal Width Cm\")\n",
    "plt.xlabel(\"Values\")\n",
    "plt.ylabel(\"Frequancy\")\n",
    "plt.show()"
   ]
  },
  {
   "cell_type": "code",
   "execution_count": 73,
   "id": "3b02139f",
   "metadata": {},
   "outputs": [],
   "source": [
    "# GRAPH = HISTOGRAM OF \"Species\""
   ]
  },
  {
   "cell_type": "code",
   "execution_count": 74,
   "id": "bb2f0de8",
   "metadata": {},
   "outputs": [
    {
     "data": {
      "image/png": "[encoded data removed]",
      "text/plain": [
       "<Figure size 640x480 with 1 Axes>"
      ]
     },
     "metadata": {},
     "output_type": "display_data"
    }
   ],
   "source": [
    "plt.hist(dataset3[\"Species\"], bins = 5, edgecolor = \"black\")\n",
    "plt.title(\"Histogram of Petal Width Cm\")\n",
    "plt.xlabel(\"Values\")\n",
    "plt.ylabel(\"Frequancy\")\n",
    "plt.show()"
   ]
  },
  {
   "cell_type": "code",
   "execution_count": 75,
   "id": "ba1e41cf",
   "metadata": {},
   "outputs": [],
   "source": [
    "# TASK - 3 DONE"
   ]
  },
  {
   "cell_type": "markdown",
   "id": "89b3c075",
   "metadata": {},
   "source": [
    "# ALL TASK ARE COMPLETED"
   ]
  },
  {
   "cell_type": "code",
   "execution_count": null,
   "id": "cee68877",
   "metadata": {},
   "outputs": [],
   "source": []
  }
 ],
 "metadata": {
  "kernelspec": {
   "display_name": "Python 3 (ipykernel)",
   "language": "python",
   "name": "python3"
  },
  "language_info": {
   "codemirror_mode": {
    "name": "ipython",
    "version": 3
   },
   "file_extension": ".py",
   "mimetype": "text/x-python",
   "name": "python",
   "nbconvert_exporter": "python",
   "pygments_lexer": "ipython3",
   "version": "3.11.5"
  }
 },
 "nbformat": 4,
 "nbformat_minor": 5
}
